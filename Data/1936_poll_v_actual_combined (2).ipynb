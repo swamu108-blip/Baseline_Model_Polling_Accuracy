{
 "cells": [
  {
   "cell_type": "code",
   "execution_count": 2,
   "id": "953ca776-02ea-4e59-837c-bb6455752ad8",
   "metadata": {},
   "outputs": [],
   "source": [
    "import requests\n",
    "from bs4 import BeautifulSoup\n",
    "import pandas as pd"
   ]
  },
  {
   "cell_type": "code",
   "execution_count": null,
   "id": "382fdaf7-ac41-4367-a0d9-f75019e6331d",
   "metadata": {},
   "outputs": [],
   "source": [
    "# URL\n",
    "url = \"https://en.wikipedia.org/wiki/1936_United_States_presidential_election\"\n",
    "\n",
    "# Request\n",
    "response = requests.get(url)\n",
    "soup = BeautifulSoup(response.content)\n",
    "\n",
    "response.status_code"
   ]
  },
  {
   "cell_type": "code",
   "execution_count": null,
   "id": "6f5cd5e2-f35e-4ce0-852b-2a5dc98c41b1",
   "metadata": {},
   "outputs": [],
   "source": [
    "# Get only target table\n",
    "target_table = None\n",
    "for table in soup.find_all(\"table\", class_=\"wikitable\"):\n",
    "    caption = table.find(\"caption\")\n",
    "    if caption and \"Electoral results\" in caption.text: #from inspect on site\n",
    "        target_table = table\n",
    "        \n",
    "\n",
    "# Read table into pandas df\n",
    "df_1_actual_results = pd.read_html(str(target_table))[0]\n",
    "\n",
    "\n",
    "df_1_actual_results.head(25)"
   ]
  },
  {
   "cell_type": "code",
   "execution_count": null,
   "id": "9b0a4fd8-fe23-4ebf-9af8-91eb51c61895",
   "metadata": {},
   "outputs": [],
   "source": [
    "# Get rid of multi index column headers\n",
    "\n",
    "# Flatten multi index column headers\n",
    "df_1_actual_results.columns = ['_'.join(col).strip().replace(\" \", \"_\").lower() for col in df_1_actual_results.columns.values]\n",
    "\n",
    "df_1_actual_results.head()"
   ]
  },
  {
   "cell_type": "code",
   "execution_count": null,
   "id": "52a1d93e-fc01-4292-91c4-39bc09c3caa3",
   "metadata": {
    "scrolled": true
   },
   "outputs": [],
   "source": [
    "# Add year column for year 1936 for all rows in df\n",
    "\n",
    "df_1_actual_results['year'] = 1936\n",
    "\n",
    "df_1_actual_results.head(25)"
   ]
  },
  {
   "cell_type": "code",
   "execution_count": null,
   "id": "d97e0589-f0d4-43b8-8c0f-6f9c7fa0bd68",
   "metadata": {},
   "outputs": [],
   "source": [
    "df_1_actual_results.columns"
   ]
  },
  {
   "cell_type": "code",
   "execution_count": null,
   "id": "871ec51d-27cb-42dc-a75a-c99beab61533",
   "metadata": {},
   "outputs": [],
   "source": [
    "# drop presidential_candidate_presidential_candidate, home_state_home_state, running_mate_vice-presidential_candidate, \n",
    "#running_mate_home_state, running_mate_electoral_vote\n",
    "\n",
    "columns_to_drop = [\n",
    "    'presidential_candidate_presidential_candidate',\n",
    "    'home_state_home_state',\n",
    "    'running_mate_vice-presidential_candidate',\n",
    "    'running_mate_home_state',\n",
    "    'running_mate_electoral_vote'\n",
    "]\n",
    "\n",
    "df_1_actual_results = df_1_actual_results.drop(columns=columns_to_drop)\n",
    "\n",
    "\n",
    "df_1_actual_results.head(25)"
   ]
  },
  {
   "cell_type": "code",
   "execution_count": null,
   "id": "b325ca9d-0363-4975-b210-519f49e56de8",
   "metadata": {},
   "outputs": [],
   "source": [
    "# drop rows 2-7 (Union to Other)\n",
    "df_1_actual_results = df_1_actual_results.drop(index=range(2, 8))\n",
    "\n",
    "# Reset index\n",
    "df_1_actual_results = df_1_actual_results.reset_index(drop=True)\n",
    "\n",
    "df_1_actual_results.head(25)"
   ]
  },
  {
   "cell_type": "code",
   "execution_count": null,
   "id": "60f4a2c8-3b2c-41e9-99c1-942ebc60b7ac",
   "metadata": {},
   "outputs": [],
   "source": [
    "# Rename party_party to party\n",
    "# Rename electoral_vote_electoral_vote to electoral_vote\n",
    "\n",
    "df_1_actual_results = df_1_actual_results.rename(columns={\n",
    "    'party_party': 'party',\n",
    "    'electoral_vote_electoral_vote': 'electoral_vote'\n",
    "})\n",
    "\n",
    "df_1_actual_results.head()"
   ]
  },
  {
   "cell_type": "code",
   "execution_count": null,
   "id": "8cce0ed8-1965-4212-886e-b5e345ede763",
   "metadata": {},
   "outputs": [],
   "source": [
    "df_1_actual_results.columns"
   ]
  },
  {
   "cell_type": "code",
   "execution_count": null,
   "id": "68aab535-67a7-4970-8293-10462807e3db",
   "metadata": {},
   "outputs": [],
   "source": [
    "df_filtered = df_1_actual_results[df_1_actual_results['party'] != 'Needed to win']\n",
    "\n",
    "df_filtered.head()"
   ]
  },
  {
   "cell_type": "code",
   "execution_count": null,
   "id": "1af09dd4-3929-4624-bc73-e7f7a7601ced",
   "metadata": {},
   "outputs": [],
   "source": [
    "# Pivot\n",
    "df_wide = df_filtered.set_index('party').T\n",
    "\n",
    "df_wide.head()"
   ]
  },
  {
   "cell_type": "code",
   "execution_count": null,
   "id": "5970e127-a968-463d-8740-d7aeb491368e",
   "metadata": {},
   "outputs": [],
   "source": [
    "# Rename Total column to match 1936 table\n",
    "df_wide = df_wide.rename(columns={'Total': 'Total_Popular_Vote'})\n",
    "\n",
    "df_wide.head()"
   ]
  },
  {
   "cell_type": "code",
   "execution_count": null,
   "id": "8ed9948b-fd03-434f-8b3e-c8e8294a8fd2",
   "metadata": {},
   "outputs": [],
   "source": [
    "# Putting everything we learned together and seeing if it works\n",
    "# Match to 1936 table for easy merge\n",
    "\n",
    "rep_electoral = int(df_wide.loc['electoral_vote', 'Republican'])\n",
    "dem_electoral = int(df_wide.loc['electoral_vote', 'Democratic'])\n",
    "total_electoral = int(df_wide.loc['electoral_vote', 'Total_Popular_Vote'])\n",
    "\n",
    "rep_popular = int(df_wide.loc['popular_vote_count', 'Republican'])\n",
    "dem_popular = int(df_wide.loc['popular_vote_count', 'Democratic'])\n",
    "total_popular = int(df_wide.loc['popular_vote_count', 'Total_Popular_Vote'])\n",
    "\n",
    "# turn into floats\n",
    "rep_popular_pct = float(df_wide.loc['popular_vote_percentage', 'Republican'].replace('%',''))\n",
    "dem_popular_pct = float(df_wide.loc['popular_vote_percentage', 'Democratic'].replace('%',''))"
   ]
  },
  {
   "cell_type": "code",
   "execution_count": null,
   "id": "789ef05b-aa41-4b70-8082-ba0c28320208",
   "metadata": {},
   "outputs": [],
   "source": [
    "# Calculate Electoral Percentages and Leading Margins\n",
    "\n",
    "rep_electoral_pct = round(rep_electoral / total_electoral * 100, 2)\n",
    "dem_electoral_pct = round(dem_electoral / total_electoral * 100, 2)\n",
    "\n",
    "electoral_margin = abs(dem_electoral_pct - rep_electoral_pct)\n",
    "popular_margin = abs(dem_popular_pct - rep_popular_pct)"
   ]
  },
  {
   "cell_type": "code",
   "execution_count": null,
   "id": "d3340aa3-f9aa-4413-b8dc-e526bec35aad",
   "metadata": {},
   "outputs": [],
   "source": [
    "final_df = pd.DataFrame({\n",
    "    'Republican_Electoral':[rep_electoral],\n",
    "    \n",
    "    'Democrat_Electoral':[dem_electoral],\n",
    "    \n",
    "    'Republican_Popular':[rep_popular],\n",
    "    \n",
    "    'Democrat_Popular':[dem_popular],\n",
    "    \n",
    "    'Total_Popular_Vote':[total_popular],\n",
    "\n",
    "    'Republican_Electoral_pct':[rep_electoral_pct],\n",
    "    \n",
    "    'Democrat_Electoral_pct':[dem_electoral_pct],\n",
    "    \n",
    "    'Republican_Popular_pct':[rep_popular_pct],\n",
    "    \n",
    "    'Democrat_Popular_pct':[dem_popular_pct],\n",
    "\n",
    "    'Electoral_Leading_Margin':[electoral_margin],\n",
    "    \n",
    "    'Popular_Leading_Margin':[popular_margin]\n",
    "})\n",
    "\n",
    "final_df.head()"
   ]
  },
  {
   "cell_type": "code",
   "execution_count": null,
   "id": "17550ea4-1b3c-4cc1-91b3-3644862f3af9",
   "metadata": {},
   "outputs": [],
   "source": [
    "final_df.to_csv('1936_Actual_Election_Results.csv', index=False)"
   ]
  },
  {
   "cell_type": "code",
   "execution_count": 6,
   "id": "8b262c89-eaa1-42b6-af0b-2d2ea1321738",
   "metadata": {},
   "outputs": [
    {
     "ename": "FileNotFoundError",
     "evalue": "[Errno 2] No such file or directory: '1936_Opinion_Polling_Data.csv'",
     "output_type": "error",
     "traceback": [
      "\u001b[0;31m---------------------------------------------------------------------------\u001b[0m",
      "\u001b[0;31mFileNotFoundError\u001b[0m                         Traceback (most recent call last)",
      "Cell \u001b[0;32mIn[6], line 3\u001b[0m\n\u001b[1;32m      1\u001b[0m \u001b[38;5;66;03m# Combine both datasets\u001b[39;00m\n\u001b[0;32m----> 3\u001b[0m poll_df \u001b[38;5;241m=\u001b[39m pd\u001b[38;5;241m.\u001b[39mread_csv(\u001b[38;5;124m\"\u001b[39m\u001b[38;5;124m1936_Opinion_Polling_Data.csv\u001b[39m\u001b[38;5;124m\"\u001b[39m)\n\u001b[1;32m      4\u001b[0m actual_df \u001b[38;5;241m=\u001b[39m pd\u001b[38;5;241m.\u001b[39mread_csv(\u001b[38;5;124m\"\u001b[39m\u001b[38;5;124m1936_Actual_Election_Results.csv\u001b[39m\u001b[38;5;124m\"\u001b[39m)\n",
      "File \u001b[0;32m/opt/anaconda3/lib/python3.12/site-packages/pandas/io/parsers/readers.py:1026\u001b[0m, in \u001b[0;36mread_csv\u001b[0;34m(filepath_or_buffer, sep, delimiter, header, names, index_col, usecols, dtype, engine, converters, true_values, false_values, skipinitialspace, skiprows, skipfooter, nrows, na_values, keep_default_na, na_filter, verbose, skip_blank_lines, parse_dates, infer_datetime_format, keep_date_col, date_parser, date_format, dayfirst, cache_dates, iterator, chunksize, compression, thousands, decimal, lineterminator, quotechar, quoting, doublequote, escapechar, comment, encoding, encoding_errors, dialect, on_bad_lines, delim_whitespace, low_memory, memory_map, float_precision, storage_options, dtype_backend)\u001b[0m\n\u001b[1;32m   1013\u001b[0m kwds_defaults \u001b[38;5;241m=\u001b[39m _refine_defaults_read(\n\u001b[1;32m   1014\u001b[0m     dialect,\n\u001b[1;32m   1015\u001b[0m     delimiter,\n\u001b[0;32m   (...)\u001b[0m\n\u001b[1;32m   1022\u001b[0m     dtype_backend\u001b[38;5;241m=\u001b[39mdtype_backend,\n\u001b[1;32m   1023\u001b[0m )\n\u001b[1;32m   1024\u001b[0m kwds\u001b[38;5;241m.\u001b[39mupdate(kwds_defaults)\n\u001b[0;32m-> 1026\u001b[0m \u001b[38;5;28;01mreturn\u001b[39;00m _read(filepath_or_buffer, kwds)\n",
      "File \u001b[0;32m/opt/anaconda3/lib/python3.12/site-packages/pandas/io/parsers/readers.py:620\u001b[0m, in \u001b[0;36m_read\u001b[0;34m(filepath_or_buffer, kwds)\u001b[0m\n\u001b[1;32m    617\u001b[0m _validate_names(kwds\u001b[38;5;241m.\u001b[39mget(\u001b[38;5;124m\"\u001b[39m\u001b[38;5;124mnames\u001b[39m\u001b[38;5;124m\"\u001b[39m, \u001b[38;5;28;01mNone\u001b[39;00m))\n\u001b[1;32m    619\u001b[0m \u001b[38;5;66;03m# Create the parser.\u001b[39;00m\n\u001b[0;32m--> 620\u001b[0m parser \u001b[38;5;241m=\u001b[39m TextFileReader(filepath_or_buffer, \u001b[38;5;241m*\u001b[39m\u001b[38;5;241m*\u001b[39mkwds)\n\u001b[1;32m    622\u001b[0m \u001b[38;5;28;01mif\u001b[39;00m chunksize \u001b[38;5;129;01mor\u001b[39;00m iterator:\n\u001b[1;32m    623\u001b[0m     \u001b[38;5;28;01mreturn\u001b[39;00m parser\n",
      "File \u001b[0;32m/opt/anaconda3/lib/python3.12/site-packages/pandas/io/parsers/readers.py:1620\u001b[0m, in \u001b[0;36mTextFileReader.__init__\u001b[0;34m(self, f, engine, **kwds)\u001b[0m\n\u001b[1;32m   1617\u001b[0m     \u001b[38;5;28mself\u001b[39m\u001b[38;5;241m.\u001b[39moptions[\u001b[38;5;124m\"\u001b[39m\u001b[38;5;124mhas_index_names\u001b[39m\u001b[38;5;124m\"\u001b[39m] \u001b[38;5;241m=\u001b[39m kwds[\u001b[38;5;124m\"\u001b[39m\u001b[38;5;124mhas_index_names\u001b[39m\u001b[38;5;124m\"\u001b[39m]\n\u001b[1;32m   1619\u001b[0m \u001b[38;5;28mself\u001b[39m\u001b[38;5;241m.\u001b[39mhandles: IOHandles \u001b[38;5;241m|\u001b[39m \u001b[38;5;28;01mNone\u001b[39;00m \u001b[38;5;241m=\u001b[39m \u001b[38;5;28;01mNone\u001b[39;00m\n\u001b[0;32m-> 1620\u001b[0m \u001b[38;5;28mself\u001b[39m\u001b[38;5;241m.\u001b[39m_engine \u001b[38;5;241m=\u001b[39m \u001b[38;5;28mself\u001b[39m\u001b[38;5;241m.\u001b[39m_make_engine(f, \u001b[38;5;28mself\u001b[39m\u001b[38;5;241m.\u001b[39mengine)\n",
      "File \u001b[0;32m/opt/anaconda3/lib/python3.12/site-packages/pandas/io/parsers/readers.py:1880\u001b[0m, in \u001b[0;36mTextFileReader._make_engine\u001b[0;34m(self, f, engine)\u001b[0m\n\u001b[1;32m   1878\u001b[0m     \u001b[38;5;28;01mif\u001b[39;00m \u001b[38;5;124m\"\u001b[39m\u001b[38;5;124mb\u001b[39m\u001b[38;5;124m\"\u001b[39m \u001b[38;5;129;01mnot\u001b[39;00m \u001b[38;5;129;01min\u001b[39;00m mode:\n\u001b[1;32m   1879\u001b[0m         mode \u001b[38;5;241m+\u001b[39m\u001b[38;5;241m=\u001b[39m \u001b[38;5;124m\"\u001b[39m\u001b[38;5;124mb\u001b[39m\u001b[38;5;124m\"\u001b[39m\n\u001b[0;32m-> 1880\u001b[0m \u001b[38;5;28mself\u001b[39m\u001b[38;5;241m.\u001b[39mhandles \u001b[38;5;241m=\u001b[39m get_handle(\n\u001b[1;32m   1881\u001b[0m     f,\n\u001b[1;32m   1882\u001b[0m     mode,\n\u001b[1;32m   1883\u001b[0m     encoding\u001b[38;5;241m=\u001b[39m\u001b[38;5;28mself\u001b[39m\u001b[38;5;241m.\u001b[39moptions\u001b[38;5;241m.\u001b[39mget(\u001b[38;5;124m\"\u001b[39m\u001b[38;5;124mencoding\u001b[39m\u001b[38;5;124m\"\u001b[39m, \u001b[38;5;28;01mNone\u001b[39;00m),\n\u001b[1;32m   1884\u001b[0m     compression\u001b[38;5;241m=\u001b[39m\u001b[38;5;28mself\u001b[39m\u001b[38;5;241m.\u001b[39moptions\u001b[38;5;241m.\u001b[39mget(\u001b[38;5;124m\"\u001b[39m\u001b[38;5;124mcompression\u001b[39m\u001b[38;5;124m\"\u001b[39m, \u001b[38;5;28;01mNone\u001b[39;00m),\n\u001b[1;32m   1885\u001b[0m     memory_map\u001b[38;5;241m=\u001b[39m\u001b[38;5;28mself\u001b[39m\u001b[38;5;241m.\u001b[39moptions\u001b[38;5;241m.\u001b[39mget(\u001b[38;5;124m\"\u001b[39m\u001b[38;5;124mmemory_map\u001b[39m\u001b[38;5;124m\"\u001b[39m, \u001b[38;5;28;01mFalse\u001b[39;00m),\n\u001b[1;32m   1886\u001b[0m     is_text\u001b[38;5;241m=\u001b[39mis_text,\n\u001b[1;32m   1887\u001b[0m     errors\u001b[38;5;241m=\u001b[39m\u001b[38;5;28mself\u001b[39m\u001b[38;5;241m.\u001b[39moptions\u001b[38;5;241m.\u001b[39mget(\u001b[38;5;124m\"\u001b[39m\u001b[38;5;124mencoding_errors\u001b[39m\u001b[38;5;124m\"\u001b[39m, \u001b[38;5;124m\"\u001b[39m\u001b[38;5;124mstrict\u001b[39m\u001b[38;5;124m\"\u001b[39m),\n\u001b[1;32m   1888\u001b[0m     storage_options\u001b[38;5;241m=\u001b[39m\u001b[38;5;28mself\u001b[39m\u001b[38;5;241m.\u001b[39moptions\u001b[38;5;241m.\u001b[39mget(\u001b[38;5;124m\"\u001b[39m\u001b[38;5;124mstorage_options\u001b[39m\u001b[38;5;124m\"\u001b[39m, \u001b[38;5;28;01mNone\u001b[39;00m),\n\u001b[1;32m   1889\u001b[0m )\n\u001b[1;32m   1890\u001b[0m \u001b[38;5;28;01massert\u001b[39;00m \u001b[38;5;28mself\u001b[39m\u001b[38;5;241m.\u001b[39mhandles \u001b[38;5;129;01mis\u001b[39;00m \u001b[38;5;129;01mnot\u001b[39;00m \u001b[38;5;28;01mNone\u001b[39;00m\n\u001b[1;32m   1891\u001b[0m f \u001b[38;5;241m=\u001b[39m \u001b[38;5;28mself\u001b[39m\u001b[38;5;241m.\u001b[39mhandles\u001b[38;5;241m.\u001b[39mhandle\n",
      "File \u001b[0;32m/opt/anaconda3/lib/python3.12/site-packages/pandas/io/common.py:873\u001b[0m, in \u001b[0;36mget_handle\u001b[0;34m(path_or_buf, mode, encoding, compression, memory_map, is_text, errors, storage_options)\u001b[0m\n\u001b[1;32m    868\u001b[0m \u001b[38;5;28;01melif\u001b[39;00m \u001b[38;5;28misinstance\u001b[39m(handle, \u001b[38;5;28mstr\u001b[39m):\n\u001b[1;32m    869\u001b[0m     \u001b[38;5;66;03m# Check whether the filename is to be opened in binary mode.\u001b[39;00m\n\u001b[1;32m    870\u001b[0m     \u001b[38;5;66;03m# Binary mode does not support 'encoding' and 'newline'.\u001b[39;00m\n\u001b[1;32m    871\u001b[0m     \u001b[38;5;28;01mif\u001b[39;00m ioargs\u001b[38;5;241m.\u001b[39mencoding \u001b[38;5;129;01mand\u001b[39;00m \u001b[38;5;124m\"\u001b[39m\u001b[38;5;124mb\u001b[39m\u001b[38;5;124m\"\u001b[39m \u001b[38;5;129;01mnot\u001b[39;00m \u001b[38;5;129;01min\u001b[39;00m ioargs\u001b[38;5;241m.\u001b[39mmode:\n\u001b[1;32m    872\u001b[0m         \u001b[38;5;66;03m# Encoding\u001b[39;00m\n\u001b[0;32m--> 873\u001b[0m         handle \u001b[38;5;241m=\u001b[39m \u001b[38;5;28mopen\u001b[39m(\n\u001b[1;32m    874\u001b[0m             handle,\n\u001b[1;32m    875\u001b[0m             ioargs\u001b[38;5;241m.\u001b[39mmode,\n\u001b[1;32m    876\u001b[0m             encoding\u001b[38;5;241m=\u001b[39mioargs\u001b[38;5;241m.\u001b[39mencoding,\n\u001b[1;32m    877\u001b[0m             errors\u001b[38;5;241m=\u001b[39merrors,\n\u001b[1;32m    878\u001b[0m             newline\u001b[38;5;241m=\u001b[39m\u001b[38;5;124m\"\u001b[39m\u001b[38;5;124m\"\u001b[39m,\n\u001b[1;32m    879\u001b[0m         )\n\u001b[1;32m    880\u001b[0m     \u001b[38;5;28;01melse\u001b[39;00m:\n\u001b[1;32m    881\u001b[0m         \u001b[38;5;66;03m# Binary mode\u001b[39;00m\n\u001b[1;32m    882\u001b[0m         handle \u001b[38;5;241m=\u001b[39m \u001b[38;5;28mopen\u001b[39m(handle, ioargs\u001b[38;5;241m.\u001b[39mmode)\n",
      "\u001b[0;31mFileNotFoundError\u001b[0m: [Errno 2] No such file or directory: '1936_Opinion_Polling_Data.csv'"
     ]
    }
   ],
   "source": [
    "# Combine both datasets\n",
    "\n",
    "poll_df = pd.read_csv(\"1936_Opinion_Polling_Data.csv\")\n",
    "actual_df = pd.read_csv(\"1936_Actual_Election_Results.csv\")"
   ]
  },
  {
   "cell_type": "code",
   "execution_count": null,
   "id": "356e1260-a49d-4647-bac2-561c695ab067",
   "metadata": {},
   "outputs": [],
   "source": [
    "# Confirm shapes \n",
    "poll_df.shape\n",
    "actual_df.shape"
   ]
  },
  {
   "cell_type": "code",
   "execution_count": null,
   "id": "36ad9b31-37aa-46c2-884b-f7c89ef73083",
   "metadata": {},
   "outputs": [],
   "source": [
    "# Combine horizontally where axis=1\n",
    "combined_df = pd.concat([poll_df, actual_df], axis=1)\n",
    "\n",
    "combined_df.head(25)"
   ]
  },
  {
   "cell_type": "code",
   "execution_count": null,
   "id": "7aacbba0-f7b7-4a45-b450-b18a9dbc5aa8",
   "metadata": {},
   "outputs": [],
   "source": [
    "# Fill all NaN from Actual Election Results with value for all rows\n",
    "# For example, the whole of Republican_Electoral column should be 8.0\n",
    "actual_cols = [\n",
    "    'Republican_Electoral','Democrat_Electoral'\n",
    "    'Republican_Popular', 'Democrat_Popular',\n",
    "    'Total_Popular_Vote', 'Republican_Electoral_pct',\n",
    "    'Democrat_Electoral_pct', 'Republican_Popular_pct',\n",
    "    'Democrat_Popular_pct', 'Electoral_Leading_Margin',\n",
    "    'Popular_Leading_Margin'\n",
    "]"
   ]
  },
  {
   "cell_type": "code",
   "execution_count": null,
   "id": "5efcebf9-2d0f-469f-a15e-b47e765864f0",
   "metadata": {},
   "outputs": [],
   "source": [
    "for col in actual_cols:\n",
    "    combined_df[col] = combined_df[col].iloc[0]\n",
    "\n",
    "combined_df.head(25)"
   ]
  },
  {
   "cell_type": "code",
   "execution_count": null,
   "id": "3c491aee-86de-4460-9288-47fbdd8a2e38",
   "metadata": {},
   "outputs": [],
   "source": [
    "# add columns Poll_vs_Electoral_Margin_Diff\t(poll leading - electoral leading)\n",
    "# and Poll_vs_Popular_Margin_Diff (poll leading - popular leading)\n",
    "\n",
    "combined_df['Poll_vs_Electoral_Margin_Diff'] = combined_df['Poll_Leading_Margin'] - combined_df['Electoral_Leading_Margin']\n",
    "combined_df['Poll_vs_Popular_Margin_Diff'] = combined_df['Poll_Leading_Margin'] - combined_df['Popular_Leading_Margin']\n",
    "\n",
    "combined_df.head(25)"
   ]
  },
  {
   "cell_type": "code",
   "execution_count": null,
   "id": "84302edf-af2f-4185-bf0d-345fe62ef543",
   "metadata": {},
   "outputs": [],
   "source": [
    "combined_df.to_csv(\"1936_Poll_v_Actual_dataset_with_diffs.csv\", index=False)"
   ]
  },
  {
   "cell_type": "code",
   "execution_count": null,
   "id": "ce283b77-7e82-4cc8-98ba-d421cc35db85",
   "metadata": {},
   "outputs": [],
   "source": [
    "combined_df.columns"
   ]
  },
  {
   "cell_type": "code",
   "execution_count": null,
   "id": "aac972d4-2777-427f-afda-3833beb5cc25",
   "metadata": {},
   "outputs": [],
   "source": []
  },
  {
   "cell_type": "code",
   "execution_count": null,
   "id": "98f8d7d6-4c3b-4424-9cc3-0b899fed0a55",
   "metadata": {},
   "outputs": [],
   "source": []
  },
  {
   "cell_type": "code",
   "execution_count": null,
   "id": "684d65d7-c927-4291-a6d8-2ba97d8acdd2",
   "metadata": {},
   "outputs": [],
   "source": []
  }
 ],
 "metadata": {
  "kernelspec": {
   "display_name": "Python [conda env:base] *",
   "language": "python",
   "name": "conda-base-py"
  },
  "language_info": {
   "codemirror_mode": {
    "name": "ipython",
    "version": 3
   },
   "file_extension": ".py",
   "mimetype": "text/x-python",
   "name": "python",
   "nbconvert_exporter": "python",
   "pygments_lexer": "ipython3",
   "version": "3.12.7"
  }
 },
 "nbformat": 4,
 "nbformat_minor": 5
}
