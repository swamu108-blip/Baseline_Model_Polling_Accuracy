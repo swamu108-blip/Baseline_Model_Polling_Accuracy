{
 "cells": [
  {
   "cell_type": "code",
   "execution_count": 19,
   "id": "74e37508-9b38-420b-a3ef-9f5ae7d67929",
   "metadata": {},
   "outputs": [],
   "source": [
    "import requests\n",
    "from bs4 import BeautifulSoup\n",
    "import pandas as pd"
   ]
  },
  {
   "cell_type": "code",
   "execution_count": 20,
   "id": "621854cd-bcef-4baa-b8b1-ec970f23cb0c",
   "metadata": {},
   "outputs": [
    {
     "data": {
      "text/plain": [
       "200"
      ]
     },
     "execution_count": 20,
     "metadata": {},
     "output_type": "execute_result"
    }
   ],
   "source": [
    "# Load the Wiki page\n",
    "url = \"https://en.wikipedia.org/wiki/Polling_for_United_States_presidential_elections\"\n",
    "response = requests.get(url)\n",
    "soup = BeautifulSoup(response.content)\n",
    "\n",
    "response.status_code"
   ]
  },
  {
   "cell_type": "code",
   "execution_count": 21,
   "id": "3a2d96fc-65bc-49a3-8711-6bc24270ae85",
   "metadata": {},
   "outputs": [],
   "source": [
    "# get tables in wikitable class\n",
    "tables = soup.find_all(\"table\", class_=\"wikitable\")"
   ]
  },
  {
   "cell_type": "code",
   "execution_count": 22,
   "id": "0ba55c82-553a-46d0-80e0-b3fea724f2ba",
   "metadata": {},
   "outputs": [
    {
     "name": "stderr",
     "output_type": "stream",
     "text": [
      "/var/folders/t1/nb2p0ppn0t1fldv4wgzvfrtw0000gn/T/ipykernel_20883/279619938.py:2: FutureWarning: Passing literal html to 'read_html' is deprecated and will be removed in a future version. To read from a literal string, wrap it in a 'StringIO' object.\n",
      "  df_1 = pd.read_html(str(tables[0]))[0]\n"
     ]
    },
    {
     "data": {
      "text/html": [
       "<div>\n",
       "<style scoped>\n",
       "    .dataframe tbody tr th:only-of-type {\n",
       "        vertical-align: middle;\n",
       "    }\n",
       "\n",
       "    .dataframe tbody tr th {\n",
       "        vertical-align: top;\n",
       "    }\n",
       "\n",
       "    .dataframe thead th {\n",
       "        text-align: right;\n",
       "    }\n",
       "</style>\n",
       "<table border=\"1\" class=\"dataframe\">\n",
       "  <thead>\n",
       "    <tr style=\"text-align: right;\">\n",
       "      <th></th>\n",
       "      <th>Month</th>\n",
       "      <th>Franklin D. Roosevelt (D) %</th>\n",
       "      <th>Alf Landon (R) %</th>\n",
       "    </tr>\n",
       "  </thead>\n",
       "  <tbody>\n",
       "    <tr>\n",
       "      <th>0</th>\n",
       "      <td>July</td>\n",
       "      <td>49%</td>\n",
       "      <td>45%</td>\n",
       "    </tr>\n",
       "    <tr>\n",
       "      <th>1</th>\n",
       "      <td>August</td>\n",
       "      <td>49%</td>\n",
       "      <td>45%</td>\n",
       "    </tr>\n",
       "    <tr>\n",
       "      <th>2</th>\n",
       "      <td>August</td>\n",
       "      <td>49%</td>\n",
       "      <td>45%</td>\n",
       "    </tr>\n",
       "    <tr>\n",
       "      <th>3</th>\n",
       "      <td>August</td>\n",
       "      <td>49%</td>\n",
       "      <td>44%</td>\n",
       "    </tr>\n",
       "    <tr>\n",
       "      <th>4</th>\n",
       "      <td>September</td>\n",
       "      <td>49%</td>\n",
       "      <td>45%</td>\n",
       "    </tr>\n",
       "  </tbody>\n",
       "</table>\n",
       "</div>"
      ],
      "text/plain": [
       "       Month Franklin D. Roosevelt (D) % Alf Landon (R) %\n",
       "0       July                         49%              45%\n",
       "1     August                         49%              45%\n",
       "2     August                         49%              45%\n",
       "3     August                         49%              44%\n",
       "4  September                         49%              45%"
      ]
     },
     "execution_count": 22,
     "metadata": {},
     "output_type": "execute_result"
    }
   ],
   "source": [
    "# Load the 1936 table manually by index\n",
    "df_1 = pd.read_html(str(tables[0]))[0]\n",
    "\n",
    "df_1.head()"
   ]
  },
  {
   "cell_type": "markdown",
   "id": "d3ab3d21-7038-4368-87ed-7b38b0b9c899",
   "metadata": {},
   "source": [
    "My priority is consistency across all years and since only some years have this sample size and margin of error data in this dataset\n",
    "I am choosing to exclude it for fairness.\n",
    "All my datasets will only have the poll_democrat, poll_republican, poll_leader_margin and poll_leader columns for analysys"
   ]
  },
  {
   "cell_type": "code",
   "execution_count": 23,
   "id": "4a42c852-bd55-45cf-b91b-963e45b63f49",
   "metadata": {},
   "outputs": [
    {
     "data": {
      "text/html": [
       "<div>\n",
       "<style scoped>\n",
       "    .dataframe tbody tr th:only-of-type {\n",
       "        vertical-align: middle;\n",
       "    }\n",
       "\n",
       "    .dataframe tbody tr th {\n",
       "        vertical-align: top;\n",
       "    }\n",
       "\n",
       "    .dataframe thead th {\n",
       "        text-align: right;\n",
       "    }\n",
       "</style>\n",
       "<table border=\"1\" class=\"dataframe\">\n",
       "  <thead>\n",
       "    <tr style=\"text-align: right;\">\n",
       "      <th></th>\n",
       "      <th>Month</th>\n",
       "      <th>Democratic</th>\n",
       "      <th>Republican</th>\n",
       "    </tr>\n",
       "  </thead>\n",
       "  <tbody>\n",
       "    <tr>\n",
       "      <th>0</th>\n",
       "      <td>July</td>\n",
       "      <td>49%</td>\n",
       "      <td>45%</td>\n",
       "    </tr>\n",
       "    <tr>\n",
       "      <th>1</th>\n",
       "      <td>August</td>\n",
       "      <td>49%</td>\n",
       "      <td>45%</td>\n",
       "    </tr>\n",
       "    <tr>\n",
       "      <th>2</th>\n",
       "      <td>August</td>\n",
       "      <td>49%</td>\n",
       "      <td>45%</td>\n",
       "    </tr>\n",
       "    <tr>\n",
       "      <th>3</th>\n",
       "      <td>August</td>\n",
       "      <td>49%</td>\n",
       "      <td>44%</td>\n",
       "    </tr>\n",
       "    <tr>\n",
       "      <th>4</th>\n",
       "      <td>September</td>\n",
       "      <td>49%</td>\n",
       "      <td>45%</td>\n",
       "    </tr>\n",
       "  </tbody>\n",
       "</table>\n",
       "</div>"
      ],
      "text/plain": [
       "       Month Democratic Republican\n",
       "0       July        49%        45%\n",
       "1     August        49%        45%\n",
       "2     August        49%        45%\n",
       "3     August        49%        44%\n",
       "4  September        49%        45%"
      ]
     },
     "execution_count": 23,
     "metadata": {},
     "output_type": "execute_result"
    }
   ],
   "source": [
    "# Rename columns for consistency\n",
    "df_1 = df_1.rename(columns={\n",
    "    df_1.columns[1]: 'Democratic',\n",
    "    df_1.columns[2]: 'Republican'\n",
    "})\n",
    "\n",
    "df_1.head()"
   ]
  },
  {
   "cell_type": "code",
   "execution_count": 24,
   "id": "14536c85-14ad-4d67-b5f5-537fa9f82fcc",
   "metadata": {},
   "outputs": [
    {
     "data": {
      "text/plain": [
       "Month         object\n",
       "Democratic    object\n",
       "Republican    object\n",
       "dtype: object"
      ]
     },
     "execution_count": 24,
     "metadata": {},
     "output_type": "execute_result"
    }
   ],
   "source": [
    "df_1.dtypes"
   ]
  },
  {
   "cell_type": "code",
   "execution_count": 25,
   "id": "75118f06-4ce5-456a-8f2b-03680afb3af6",
   "metadata": {},
   "outputs": [],
   "source": [
    "# Convert to float \n",
    "df_1['Democratic'] = df_1['Democratic'].str.replace('%', '').astype(float)\n",
    "df_1['Republican'] = df_1['Republican'].str.replace('%', '').astype(float)"
   ]
  },
  {
   "cell_type": "code",
   "execution_count": 26,
   "id": "af60ab17-1cbd-4d4f-9135-a480ab7a0a6b",
   "metadata": {},
   "outputs": [
    {
     "data": {
      "text/plain": [
       "Month          object\n",
       "Democratic    float64\n",
       "Republican    float64\n",
       "dtype: object"
      ]
     },
     "execution_count": 26,
     "metadata": {},
     "output_type": "execute_result"
    }
   ],
   "source": [
    "df_1.dtypes"
   ]
  },
  {
   "cell_type": "code",
   "execution_count": 27,
   "id": "59955ad4-c16d-47ce-a6ff-8da9a0bc0655",
   "metadata": {},
   "outputs": [],
   "source": [
    "# Create Poll_Leading_Margin (absolute difference)\n",
    "df_1['Poll_Leading_Margin'] = abs(df_1['Democratic'] - df_1['Republican'])"
   ]
  },
  {
   "cell_type": "code",
   "execution_count": 28,
   "id": "9e2b4e7e-3ae8-4b9f-81d4-38c1a67cc02a",
   "metadata": {},
   "outputs": [],
   "source": [
    "# Create Poll_Leader (0 = Democrat leads, 1 = Republican leads)\n",
    "df_1['Poll_Leader'] = (df_1['Republican'] > df_1['Democratic']).astype(int)"
   ]
  },
  {
   "cell_type": "code",
   "execution_count": 29,
   "id": "3941b622-e033-4821-a135-12f735bd0ed6",
   "metadata": {},
   "outputs": [
    {
     "data": {
      "text/plain": [
       "Month                   object\n",
       "Democratic             float64\n",
       "Republican             float64\n",
       "Poll_Leading_Margin    float64\n",
       "Poll_Leader              int64\n",
       "dtype: object"
      ]
     },
     "execution_count": 29,
     "metadata": {},
     "output_type": "execute_result"
    }
   ],
   "source": [
    "df_1.dtypes"
   ]
  },
  {
   "cell_type": "code",
   "execution_count": 30,
   "id": "f202b914-1da1-496c-ad3a-91798016b60d",
   "metadata": {},
   "outputs": [
    {
     "data": {
      "text/html": [
       "<div>\n",
       "<style scoped>\n",
       "    .dataframe tbody tr th:only-of-type {\n",
       "        vertical-align: middle;\n",
       "    }\n",
       "\n",
       "    .dataframe tbody tr th {\n",
       "        vertical-align: top;\n",
       "    }\n",
       "\n",
       "    .dataframe thead th {\n",
       "        text-align: right;\n",
       "    }\n",
       "</style>\n",
       "<table border=\"1\" class=\"dataframe\">\n",
       "  <thead>\n",
       "    <tr style=\"text-align: right;\">\n",
       "      <th></th>\n",
       "      <th>Month</th>\n",
       "      <th>Democratic</th>\n",
       "      <th>Republican</th>\n",
       "      <th>Poll_Leading_Margin</th>\n",
       "      <th>Poll_Leader</th>\n",
       "    </tr>\n",
       "  </thead>\n",
       "  <tbody>\n",
       "    <tr>\n",
       "      <th>0</th>\n",
       "      <td>July</td>\n",
       "      <td>49.0</td>\n",
       "      <td>45.00</td>\n",
       "      <td>4.00</td>\n",
       "      <td>0</td>\n",
       "    </tr>\n",
       "    <tr>\n",
       "      <th>1</th>\n",
       "      <td>August</td>\n",
       "      <td>49.0</td>\n",
       "      <td>45.00</td>\n",
       "      <td>4.00</td>\n",
       "      <td>0</td>\n",
       "    </tr>\n",
       "    <tr>\n",
       "      <th>2</th>\n",
       "      <td>August</td>\n",
       "      <td>49.0</td>\n",
       "      <td>45.00</td>\n",
       "      <td>4.00</td>\n",
       "      <td>0</td>\n",
       "    </tr>\n",
       "    <tr>\n",
       "      <th>3</th>\n",
       "      <td>August</td>\n",
       "      <td>49.0</td>\n",
       "      <td>44.00</td>\n",
       "      <td>5.00</td>\n",
       "      <td>0</td>\n",
       "    </tr>\n",
       "    <tr>\n",
       "      <th>4</th>\n",
       "      <td>September</td>\n",
       "      <td>49.0</td>\n",
       "      <td>45.00</td>\n",
       "      <td>4.00</td>\n",
       "      <td>0</td>\n",
       "    </tr>\n",
       "    <tr>\n",
       "      <th>5</th>\n",
       "      <td>September</td>\n",
       "      <td>50.0</td>\n",
       "      <td>44.00</td>\n",
       "      <td>6.00</td>\n",
       "      <td>0</td>\n",
       "    </tr>\n",
       "    <tr>\n",
       "      <th>6</th>\n",
       "      <td>October</td>\n",
       "      <td>51.0</td>\n",
       "      <td>44.00</td>\n",
       "      <td>7.00</td>\n",
       "      <td>0</td>\n",
       "    </tr>\n",
       "    <tr>\n",
       "      <th>7</th>\n",
       "      <td>October</td>\n",
       "      <td>51.0</td>\n",
       "      <td>44.00</td>\n",
       "      <td>7.00</td>\n",
       "      <td>0</td>\n",
       "    </tr>\n",
       "    <tr>\n",
       "      <th>8</th>\n",
       "      <td>October</td>\n",
       "      <td>56.0</td>\n",
       "      <td>44.00</td>\n",
       "      <td>12.00</td>\n",
       "      <td>0</td>\n",
       "    </tr>\n",
       "    <tr>\n",
       "      <th>9</th>\n",
       "      <td>Actual result</td>\n",
       "      <td>60.8</td>\n",
       "      <td>36.54</td>\n",
       "      <td>24.26</td>\n",
       "      <td>0</td>\n",
       "    </tr>\n",
       "    <tr>\n",
       "      <th>10</th>\n",
       "      <td>Difference between actual result and final poll</td>\n",
       "      <td>4.8</td>\n",
       "      <td>-7.46</td>\n",
       "      <td>12.26</td>\n",
       "      <td>0</td>\n",
       "    </tr>\n",
       "  </tbody>\n",
       "</table>\n",
       "</div>"
      ],
      "text/plain": [
       "                                              Month  Democratic  Republican  \\\n",
       "0                                              July        49.0       45.00   \n",
       "1                                            August        49.0       45.00   \n",
       "2                                            August        49.0       45.00   \n",
       "3                                            August        49.0       44.00   \n",
       "4                                         September        49.0       45.00   \n",
       "5                                         September        50.0       44.00   \n",
       "6                                           October        51.0       44.00   \n",
       "7                                           October        51.0       44.00   \n",
       "8                                           October        56.0       44.00   \n",
       "9                                     Actual result        60.8       36.54   \n",
       "10  Difference between actual result and final poll         4.8       -7.46   \n",
       "\n",
       "    Poll_Leading_Margin  Poll_Leader  \n",
       "0                  4.00            0  \n",
       "1                  4.00            0  \n",
       "2                  4.00            0  \n",
       "3                  5.00            0  \n",
       "4                  4.00            0  \n",
       "5                  6.00            0  \n",
       "6                  7.00            0  \n",
       "7                  7.00            0  \n",
       "8                 12.00            0  \n",
       "9                 24.26            0  \n",
       "10                12.26            0  "
      ]
     },
     "execution_count": 30,
     "metadata": {},
     "output_type": "execute_result"
    }
   ],
   "source": [
    "df_1.head(20)"
   ]
  },
  {
   "cell_type": "code",
   "execution_count": null,
   "id": "667b92d9-245b-4434-a6e1-ab8d4d122b7a",
   "metadata": {},
   "outputs": [],
   "source": []
  },
  {
   "cell_type": "code",
   "execution_count": 31,
   "id": "0c61c8ee-ee5f-4a71-9aab-0521618d9918",
   "metadata": {},
   "outputs": [
    {
     "data": {
      "text/html": [
       "<div>\n",
       "<style scoped>\n",
       "    .dataframe tbody tr th:only-of-type {\n",
       "        vertical-align: middle;\n",
       "    }\n",
       "\n",
       "    .dataframe tbody tr th {\n",
       "        vertical-align: top;\n",
       "    }\n",
       "\n",
       "    .dataframe thead th {\n",
       "        text-align: right;\n",
       "    }\n",
       "</style>\n",
       "<table border=\"1\" class=\"dataframe\">\n",
       "  <thead>\n",
       "    <tr style=\"text-align: right;\">\n",
       "      <th></th>\n",
       "      <th>Month</th>\n",
       "      <th>Democratic</th>\n",
       "      <th>Republican</th>\n",
       "      <th>Poll_Leading_Margin</th>\n",
       "      <th>Poll_Leader</th>\n",
       "    </tr>\n",
       "  </thead>\n",
       "  <tbody>\n",
       "    <tr>\n",
       "      <th>4</th>\n",
       "      <td>September</td>\n",
       "      <td>49.0</td>\n",
       "      <td>45.0</td>\n",
       "      <td>4.0</td>\n",
       "      <td>0</td>\n",
       "    </tr>\n",
       "    <tr>\n",
       "      <th>5</th>\n",
       "      <td>September</td>\n",
       "      <td>50.0</td>\n",
       "      <td>44.0</td>\n",
       "      <td>6.0</td>\n",
       "      <td>0</td>\n",
       "    </tr>\n",
       "    <tr>\n",
       "      <th>6</th>\n",
       "      <td>October</td>\n",
       "      <td>51.0</td>\n",
       "      <td>44.0</td>\n",
       "      <td>7.0</td>\n",
       "      <td>0</td>\n",
       "    </tr>\n",
       "    <tr>\n",
       "      <th>7</th>\n",
       "      <td>October</td>\n",
       "      <td>51.0</td>\n",
       "      <td>44.0</td>\n",
       "      <td>7.0</td>\n",
       "      <td>0</td>\n",
       "    </tr>\n",
       "    <tr>\n",
       "      <th>8</th>\n",
       "      <td>October</td>\n",
       "      <td>56.0</td>\n",
       "      <td>44.0</td>\n",
       "      <td>12.0</td>\n",
       "      <td>0</td>\n",
       "    </tr>\n",
       "  </tbody>\n",
       "</table>\n",
       "</div>"
      ],
      "text/plain": [
       "       Month  Democratic  Republican  Poll_Leading_Margin  Poll_Leader\n",
       "4  September        49.0        45.0                  4.0            0\n",
       "5  September        50.0        44.0                  6.0            0\n",
       "6    October        51.0        44.0                  7.0            0\n",
       "7    October        51.0        44.0                  7.0            0\n",
       "8    October        56.0        44.0                 12.0            0"
      ]
     },
     "execution_count": 31,
     "metadata": {},
     "output_type": "execute_result"
    }
   ],
   "source": [
    "#Drop Row 9 and row 10 \n",
    "df_1 = df_1.drop(index=[9, 10])\n",
    "df_1.reset_index(drop=True, inplace=True)  \n",
    "\n",
    "df_1.tail()"
   ]
  },
  {
   "cell_type": "code",
   "execution_count": 32,
   "id": "fb8fd25d-0bc1-4044-a5f8-b8b92561392f",
   "metadata": {},
   "outputs": [
    {
     "data": {
      "text/plain": [
       "Month                   object\n",
       "Democratic             float64\n",
       "Republican             float64\n",
       "Poll_Leading_Margin    float64\n",
       "Poll_Leader              int64\n",
       "dtype: object"
      ]
     },
     "execution_count": 32,
     "metadata": {},
     "output_type": "execute_result"
    }
   ],
   "source": [
    "df_1.dtypes"
   ]
  },
  {
   "cell_type": "code",
   "execution_count": 33,
   "id": "824c4a17-dc17-4e7e-a840-052dd5450eb1",
   "metadata": {},
   "outputs": [
    {
     "data": {
      "text/html": [
       "<div>\n",
       "<style scoped>\n",
       "    .dataframe tbody tr th:only-of-type {\n",
       "        vertical-align: middle;\n",
       "    }\n",
       "\n",
       "    .dataframe tbody tr th {\n",
       "        vertical-align: top;\n",
       "    }\n",
       "\n",
       "    .dataframe thead th {\n",
       "        text-align: right;\n",
       "    }\n",
       "</style>\n",
       "<table border=\"1\" class=\"dataframe\">\n",
       "  <thead>\n",
       "    <tr style=\"text-align: right;\">\n",
       "      <th></th>\n",
       "      <th>year</th>\n",
       "      <th>Month</th>\n",
       "      <th>Democratic</th>\n",
       "      <th>Republican</th>\n",
       "      <th>Poll_Leading_Margin</th>\n",
       "      <th>Poll_Leader</th>\n",
       "    </tr>\n",
       "  </thead>\n",
       "  <tbody>\n",
       "    <tr>\n",
       "      <th>0</th>\n",
       "      <td>1936</td>\n",
       "      <td>July</td>\n",
       "      <td>49.0</td>\n",
       "      <td>45.0</td>\n",
       "      <td>4.0</td>\n",
       "      <td>0</td>\n",
       "    </tr>\n",
       "    <tr>\n",
       "      <th>1</th>\n",
       "      <td>1936</td>\n",
       "      <td>August</td>\n",
       "      <td>49.0</td>\n",
       "      <td>45.0</td>\n",
       "      <td>4.0</td>\n",
       "      <td>0</td>\n",
       "    </tr>\n",
       "    <tr>\n",
       "      <th>2</th>\n",
       "      <td>1936</td>\n",
       "      <td>August</td>\n",
       "      <td>49.0</td>\n",
       "      <td>45.0</td>\n",
       "      <td>4.0</td>\n",
       "      <td>0</td>\n",
       "    </tr>\n",
       "    <tr>\n",
       "      <th>3</th>\n",
       "      <td>1936</td>\n",
       "      <td>August</td>\n",
       "      <td>49.0</td>\n",
       "      <td>44.0</td>\n",
       "      <td>5.0</td>\n",
       "      <td>0</td>\n",
       "    </tr>\n",
       "    <tr>\n",
       "      <th>4</th>\n",
       "      <td>1936</td>\n",
       "      <td>September</td>\n",
       "      <td>49.0</td>\n",
       "      <td>45.0</td>\n",
       "      <td>4.0</td>\n",
       "      <td>0</td>\n",
       "    </tr>\n",
       "  </tbody>\n",
       "</table>\n",
       "</div>"
      ],
      "text/plain": [
       "   year      Month  Democratic  Republican  Poll_Leading_Margin  Poll_Leader\n",
       "0  1936       July        49.0        45.0                  4.0            0\n",
       "1  1936     August        49.0        45.0                  4.0            0\n",
       "2  1936     August        49.0        45.0                  4.0            0\n",
       "3  1936     August        49.0        44.0                  5.0            0\n",
       "4  1936  September        49.0        45.0                  4.0            0"
      ]
     },
     "execution_count": 33,
     "metadata": {},
     "output_type": "execute_result"
    }
   ],
   "source": [
    "# Add year 1936 column at the start\n",
    "df_1.insert(0, 'year', 1936)\n",
    "\n",
    "df_1.head()"
   ]
  },
  {
   "cell_type": "code",
   "execution_count": 38,
   "id": "6e0e37fb-b23d-43cf-800c-f6f57fdf6bfb",
   "metadata": {},
   "outputs": [
    {
     "data": {
      "image/png": "[encoded data removed]",
      "text/plain": [
       "<Figure size 800x500 with 1 Axes>"
      ]
     },
     "metadata": {},
     "output_type": "display_data"
    }
   ],
   "source": [
    "import matplotlib.pyplot as plt\n",
    "\n",
    "# Filter for a specific year, e.g., 1936\n",
    "df_1936 = df_1[df_1['year'] == 1936].copy()\n",
    "\n",
    "# If you need to add months (see above), do so here\n",
    "\n",
    "plt.figure(figsize=(8,5))\n",
    "plt.plot(df_1936['Month'], df_1936['Democratic'], marker='o', label='Democratic')\n",
    "plt.plot(df_1936['Month'], df_1936['Republican'], marker='o', label='Republican')\n",
    "plt.xlabel('Month')\n",
    "plt.ylabel('Polling Percentage')\n",
    "plt.title('1936 Presidential Polls: Month-by-Month')\n",
    "plt.legend()\n",
    "plt.grid(True)\n",
    "plt.show()"
   ]
  },
  {
   "cell_type": "code",
   "execution_count": 35,
   "id": "3b749bd3-8d6a-4142-97e0-f14d80aa288d",
   "metadata": {},
   "outputs": [],
   "source": [
    "df_1.to_csv(\"1936_Opinion_Polling_Data.csv\", index=False)"
   ]
  },
  {
   "cell_type": "code",
   "execution_count": null,
   "id": "82484e40-9968-4248-832f-d4e547b29667",
   "metadata": {},
   "outputs": [],
   "source": []
  }
 ],
 "metadata": {
  "kernelspec": {
   "display_name": "Python [conda env:base] *",
   "language": "python",
   "name": "conda-base-py"
  },
  "language_info": {
   "codemirror_mode": {
    "name": "ipython",
    "version": 3
   },
   "file_extension": ".py",
   "mimetype": "text/x-python",
   "name": "python",
   "nbconvert_exporter": "python",
   "pygments_lexer": "ipython3",
   "version": "3.12.7"
  }
 },
 "nbformat": 4,
 "nbformat_minor": 5
}
