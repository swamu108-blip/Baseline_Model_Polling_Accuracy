{
 "cells": [
  {
   "cell_type": "markdown",
   "id": "0a3fe2b1-eb89-478c-b20a-5a0be859556a",
   "metadata": {},
   "source": [
    "I found the FederalElections2016 xlsx file from the Federal Election Commission (FEC) website. Downloaded it and uploaded the needed tabs for this project onto this project folder. Using this data, I will sort out who won, what is the margin_lead for their victory for both the electoral college and popular vote. In a seperate notebook, i will then merge both this actual results csv and the complete 2016 poll data csv to create a dataframe in which I can use to build my baseline model to analyze whether or not polling actaully predicted election results accurately for the 2016 election\n",
    "\n",
    "https://transition.fec.gov/pubrec/fe2016/federalelections2016.shtml"
   ]
  },
  {
   "cell_type": "code",
   "execution_count": 1,
   "id": "2f74183f-7428-47b4-b606-3d7a88b6a3f2",
   "metadata": {},
   "outputs": [],
   "source": [
    "import pandas as pd"
   ]
  },
  {
   "cell_type": "code",
   "execution_count": 2,
   "id": "2b397b84-9837-438e-afa5-8e8494872da8",
   "metadata": {},
   "outputs": [
    {
     "data": {
      "text/plain": [
       "Index(['Unnamed: 0', 'Trump (R)', 'Clinton (D)', 'Trump (R).1',\n",
       "       'Clinton (D).1', 'All Others', 'Total Vote'],\n",
       "      dtype='object')"
      ]
     },
     "execution_count": 2,
     "metadata": {},
     "output_type": "execute_result"
    }
   ],
   "source": [
    "df_election_act = pd.read_csv(\"federalelections2016.xlsx - Table 2. Electoral_Pop Vote.csv\", skiprows=3)\n",
    "df_election_act.columns"
   ]
  },
  {
   "cell_type": "code",
   "execution_count": 3,
   "id": "9743cf71-00dc-4cfd-9787-ee13909c23a4",
   "metadata": {},
   "outputs": [],
   "source": [
    "df_cleaned = df_election_act.drop(columns=['Unnamed: 0', 'All Others'])"
   ]
  },
  {
   "cell_type": "code",
   "execution_count": 4,
   "id": "983bc383-e416-40a9-9e56-5a93d6ca4cc8",
   "metadata": {},
   "outputs": [
    {
     "data": {
      "text/plain": [
       "Index(['Trump (R)', 'Clinton (D)', 'Trump (R).1', 'Clinton (D).1',\n",
       "       'Total Vote'],\n",
       "      dtype='object')"
      ]
     },
     "execution_count": 4,
     "metadata": {},
     "output_type": "execute_result"
    }
   ],
   "source": [
    "df_cleaned.columns"
   ]
  },
  {
   "cell_type": "code",
   "execution_count": 5,
   "id": "5637e8d5-1e88-482e-8803-16924f1416d3",
   "metadata": {},
   "outputs": [
    {
     "data": {
      "text/plain": [
       "Index(['Trump_Electoral', 'Clinton_Electoral', 'Trump_Popular',\n",
       "       'Clinton_Popular', 'Total_Popular_Vote'],\n",
       "      dtype='object')"
      ]
     },
     "execution_count": 5,
     "metadata": {},
     "output_type": "execute_result"
    }
   ],
   "source": [
    "df_cleaned = df_cleaned.rename(columns={\n",
    "    'Trump (R)': 'Trump_Electoral',\n",
    "    'Clinton (D)': 'Clinton_Electoral',\n",
    "    'Trump (R).1': 'Trump_Popular',\n",
    "    'Clinton (D).1': 'Clinton_Popular',\n",
    "    'Total Vote': 'Total_Popular_Vote'\n",
    "})\n",
    "\n",
    "df_cleaned.columns"
   ]
  },
  {
   "cell_type": "code",
   "execution_count": 6,
   "id": "33c94a5f-1ab5-4f7c-9b46-079edf788f61",
   "metadata": {},
   "outputs": [
    {
     "data": {
      "text/html": [
       "<div>\n",
       "<style scoped>\n",
       "    .dataframe tbody tr th:only-of-type {\n",
       "        vertical-align: middle;\n",
       "    }\n",
       "\n",
       "    .dataframe tbody tr th {\n",
       "        vertical-align: top;\n",
       "    }\n",
       "\n",
       "    .dataframe thead th {\n",
       "        text-align: right;\n",
       "    }\n",
       "</style>\n",
       "<table border=\"1\" class=\"dataframe\">\n",
       "  <thead>\n",
       "    <tr style=\"text-align: right;\">\n",
       "      <th></th>\n",
       "      <th>Trump_Electoral</th>\n",
       "      <th>Clinton_Electoral</th>\n",
       "      <th>Trump_Popular</th>\n",
       "      <th>Clinton_Popular</th>\n",
       "      <th>Total_Popular_Vote</th>\n",
       "    </tr>\n",
       "  </thead>\n",
       "  <tbody>\n",
       "    <tr>\n",
       "      <th>0</th>\n",
       "      <td>304</td>\n",
       "      <td>227</td>\n",
       "      <td>62984828</td>\n",
       "      <td>65853514</td>\n",
       "      <td>136669276</td>\n",
       "    </tr>\n",
       "  </tbody>\n",
       "</table>\n",
       "</div>"
      ],
      "text/plain": [
       "   Trump_Electoral  Clinton_Electoral  Trump_Popular  Clinton_Popular  \\\n",
       "0              304                227       62984828         65853514   \n",
       "\n",
       "   Total_Popular_Vote  \n",
       "0           136669276  "
      ]
     },
     "execution_count": 6,
     "metadata": {},
     "output_type": "execute_result"
    }
   ],
   "source": [
    "#with national totals\n",
    "national_results = pd.DataFrame({\n",
    "    'Trump_Electoral': [304],\n",
    "    'Clinton_Electoral': [227],\n",
    "    'Trump_Popular': [62984828],\n",
    "    'Clinton_Popular': [65853514],\n",
    "    'Total_Popular_Vote': [136669276]\n",
    "})\n",
    "\n",
    "national_results.head()"
   ]
  },
  {
   "cell_type": "code",
   "execution_count": 16,
   "id": "058c824e-6731-4712-8291-dd6d9e1e29c8",
   "metadata": {},
   "outputs": [
    {
     "data": {
      "text/html": [
       "<div>\n",
       "<style scoped>\n",
       "    .dataframe tbody tr th:only-of-type {\n",
       "        vertical-align: middle;\n",
       "    }\n",
       "\n",
       "    .dataframe tbody tr th {\n",
       "        vertical-align: top;\n",
       "    }\n",
       "\n",
       "    .dataframe thead th {\n",
       "        text-align: right;\n",
       "    }\n",
       "</style>\n",
       "<table border=\"1\" class=\"dataframe\">\n",
       "  <thead>\n",
       "    <tr style=\"text-align: right;\">\n",
       "      <th></th>\n",
       "      <th>Trump_Electoral</th>\n",
       "      <th>Clinton_Electoral</th>\n",
       "      <th>Trump_Popular</th>\n",
       "      <th>Clinton_Popular</th>\n",
       "      <th>Total_Popular_Vote</th>\n",
       "      <th>Trump_Electoral_pct</th>\n",
       "      <th>Clinton_Electoral_pct</th>\n",
       "      <th>Trump_Popular_pct</th>\n",
       "      <th>Clinton_Popular_pct</th>\n",
       "    </tr>\n",
       "  </thead>\n",
       "  <tbody>\n",
       "    <tr>\n",
       "      <th>0</th>\n",
       "      <td>304</td>\n",
       "      <td>227</td>\n",
       "      <td>62984828</td>\n",
       "      <td>65853514</td>\n",
       "      <td>136669276</td>\n",
       "      <td>57.25</td>\n",
       "      <td>42.75</td>\n",
       "      <td>48.89</td>\n",
       "      <td>51.11</td>\n",
       "    </tr>\n",
       "  </tbody>\n",
       "</table>\n",
       "</div>"
      ],
      "text/plain": [
       "   Trump_Electoral  Clinton_Electoral  Trump_Popular  Clinton_Popular  \\\n",
       "0              304                227       62984828         65853514   \n",
       "\n",
       "   Total_Popular_Vote  Trump_Electoral_pct  Clinton_Electoral_pct  \\\n",
       "0           136669276                57.25                  42.75   \n",
       "\n",
       "   Trump_Popular_pct  Clinton_Popular_pct  \n",
       "0              48.89                51.11  "
      ]
     },
     "execution_count": 16,
     "metadata": {},
     "output_type": "execute_result"
    }
   ],
   "source": [
    "# Create percent votes columns with the percents calculated \n",
    "national_results['Trump_Electoral_pct'] = round(national_results['Trump_Electoral'] / (national_results['Trump_Electoral'] + national_results['Clinton_Electoral']) * 100, 2)\n",
    "national_results['Clinton_Electoral_pct'] = round(national_results['Clinton_Electoral'] / (national_results['Trump_Electoral'] + national_results['Clinton_Electoral']) * 100, 2)\n",
    "national_results['Trump_Popular_pct'] = round(national_results['Trump_Popular'] / (national_results['Trump_Popular'] + national_results['Clinton_Popular']) * 100, 2)\n",
    "national_results['Clinton_Popular_pct'] = round(national_results['Clinton_Popular'] / (national_results['Trump_Popular'] + national_results['Clinton_Popular']) * 100, 2)\n",
    "\n",
    "# View the updated DataFrame structure\n",
    "national_results.head()"
   ]
  },
  {
   "cell_type": "code",
   "execution_count": 17,
   "id": "dd5b80ea-d442-490a-a528-a74a6c5d990d",
   "metadata": {},
   "outputs": [],
   "source": [
    "# Create a Electoral and Polpular Leading Margin Column \n",
    "\n",
    "national_results['Electoral_Leading_Margin'] = (\n",
    "    national_results['Clinton_Electoral_pct']\n",
    "    - national_results['Trump_Electoral_pct']\n",
    ").round(4)"
   ]
  },
  {
   "cell_type": "code",
   "execution_count": 18,
   "id": "8731deb5-8d51-4b31-9fce-3481ca4de4c3",
   "metadata": {},
   "outputs": [],
   "source": [
    "national_results['Popular_Leading_Margin'] = (\n",
    "    national_results['Clinton_Popular_pct']\n",
    "    - national_results['Trump_Popular_pct']\n",
    ").round(4)"
   ]
  },
  {
   "cell_type": "code",
   "execution_count": 19,
   "id": "51b31199-9a87-4adc-82c8-8d8eb9f3a532",
   "metadata": {},
   "outputs": [
    {
     "data": {
      "text/html": [
       "<div>\n",
       "<style scoped>\n",
       "    .dataframe tbody tr th:only-of-type {\n",
       "        vertical-align: middle;\n",
       "    }\n",
       "\n",
       "    .dataframe tbody tr th {\n",
       "        vertical-align: top;\n",
       "    }\n",
       "\n",
       "    .dataframe thead th {\n",
       "        text-align: right;\n",
       "    }\n",
       "</style>\n",
       "<table border=\"1\" class=\"dataframe\">\n",
       "  <thead>\n",
       "    <tr style=\"text-align: right;\">\n",
       "      <th></th>\n",
       "      <th>Trump_Electoral</th>\n",
       "      <th>Clinton_Electoral</th>\n",
       "      <th>Trump_Popular</th>\n",
       "      <th>Clinton_Popular</th>\n",
       "      <th>Total_Popular_Vote</th>\n",
       "      <th>Trump_Electoral_pct</th>\n",
       "      <th>Clinton_Electoral_pct</th>\n",
       "      <th>Trump_Popular_pct</th>\n",
       "      <th>Clinton_Popular_pct</th>\n",
       "      <th>Electoral_Leading_Margin</th>\n",
       "      <th>Popular_Leading_Margin</th>\n",
       "    </tr>\n",
       "  </thead>\n",
       "  <tbody>\n",
       "    <tr>\n",
       "      <th>0</th>\n",
       "      <td>304</td>\n",
       "      <td>227</td>\n",
       "      <td>62984828</td>\n",
       "      <td>65853514</td>\n",
       "      <td>136669276</td>\n",
       "      <td>57.25</td>\n",
       "      <td>42.75</td>\n",
       "      <td>48.89</td>\n",
       "      <td>51.11</td>\n",
       "      <td>-14.5</td>\n",
       "      <td>2.22</td>\n",
       "    </tr>\n",
       "  </tbody>\n",
       "</table>\n",
       "</div>"
      ],
      "text/plain": [
       "   Trump_Electoral  Clinton_Electoral  Trump_Popular  Clinton_Popular  \\\n",
       "0              304                227       62984828         65853514   \n",
       "\n",
       "   Total_Popular_Vote  Trump_Electoral_pct  Clinton_Electoral_pct  \\\n",
       "0           136669276                57.25                  42.75   \n",
       "\n",
       "   Trump_Popular_pct  Clinton_Popular_pct  Electoral_Leading_Margin  \\\n",
       "0              48.89                51.11                     -14.5   \n",
       "\n",
       "   Popular_Leading_Margin  \n",
       "0                    2.22  "
      ]
     },
     "execution_count": 19,
     "metadata": {},
     "output_type": "execute_result"
    }
   ],
   "source": [
    "national_results.head()"
   ]
  },
  {
   "cell_type": "code",
   "execution_count": 20,
   "id": "0cff7c17-b493-4355-9bae-52badf3927ab",
   "metadata": {},
   "outputs": [],
   "source": [
    "national_results.to_csv('2016_Actual_Election_Results.csv', index=False)"
   ]
  },
  {
   "cell_type": "code",
   "execution_count": null,
   "id": "23899f4b-f227-4374-8335-df1cd0b4ba75",
   "metadata": {},
   "outputs": [],
   "source": []
  }
 ],
 "metadata": {
  "kernelspec": {
   "display_name": "Python [conda env:base] *",
   "language": "python",
   "name": "conda-base-py"
  },
  "language_info": {
   "codemirror_mode": {
    "name": "ipython",
    "version": 3
   },
   "file_extension": ".py",
   "mimetype": "text/x-python",
   "name": "python",
   "nbconvert_exporter": "python",
   "pygments_lexer": "ipython3",
   "version": "3.12.7"
  }
 },
 "nbformat": 4,
 "nbformat_minor": 5
}
