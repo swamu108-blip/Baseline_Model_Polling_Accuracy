{
 "cells": [
  {
   "cell_type": "code",
   "execution_count": 20,
   "id": "953ca776-02ea-4e59-837c-bb6455752ad8",
   "metadata": {},
   "outputs": [],
   "source": [
    "import requests\n",
    "from bs4 import BeautifulSoup\n",
    "import pandas as pd"
   ]
  },
  {
   "cell_type": "code",
   "execution_count": 21,
   "id": "2ae76766-fe87-4b4e-a33c-56cdf31a17b5",
   "metadata": {},
   "outputs": [
    {
     "data": {
      "text/plain": [
       "200"
      ]
     },
     "execution_count": 21,
     "metadata": {},
     "output_type": "execute_result"
    }
   ],
   "source": [
    "# Load the Wiki page\n",
    "url2 = \"https://en.wikipedia.org/wiki/Polling_for_United_States_presidential_elections#1940\"\n",
    "response2 = requests.get(url2)\n",
    "soup2 = BeautifulSoup(response2.content)\n",
    "\n",
    "response2.status_code"
   ]
  },
  {
   "cell_type": "code",
   "execution_count": 22,
   "id": "c5993457-0084-4112-83ec-f2a1808d10af",
   "metadata": {},
   "outputs": [
    {
     "data": {
      "text/plain": [
       "23"
      ]
     },
     "execution_count": 22,
     "metadata": {},
     "output_type": "execute_result"
    }
   ],
   "source": [
    "# get tables in wikitable class\n",
    "tables2 = soup2.find_all(\"table\", class_=\"wikitable\")\n",
    "\n",
    "len(tables2)"
   ]
  },
  {
   "cell_type": "code",
   "execution_count": 23,
   "id": "b7e97e30-6201-4041-8216-44a8ea46af49",
   "metadata": {},
   "outputs": [
    {
     "name": "stderr",
     "output_type": "stream",
     "text": [
      "/var/folders/t1/nb2p0ppn0t1fldv4wgzvfrtw0000gn/T/ipykernel_11681/2448420523.py:2: FutureWarning: Passing literal html to 'read_html' is deprecated and will be removed in a future version. To read from a literal string, wrap it in a 'StringIO' object.\n",
      "  df_2 = pd.read_html(str(tables2[1]))[0]\n"
     ]
    },
    {
     "data": {
      "text/html": [
       "<div>\n",
       "<style scoped>\n",
       "    .dataframe tbody tr th:only-of-type {\n",
       "        vertical-align: middle;\n",
       "    }\n",
       "\n",
       "    .dataframe tbody tr th {\n",
       "        vertical-align: top;\n",
       "    }\n",
       "\n",
       "    .dataframe thead th {\n",
       "        text-align: right;\n",
       "    }\n",
       "</style>\n",
       "<table border=\"1\" class=\"dataframe\">\n",
       "  <thead>\n",
       "    <tr style=\"text-align: right;\">\n",
       "      <th></th>\n",
       "      <th>Month</th>\n",
       "      <th>Franklin D. Roosevelt (D) %</th>\n",
       "      <th>Wendell Willkie (R)%</th>\n",
       "    </tr>\n",
       "  </thead>\n",
       "  <tbody>\n",
       "    <tr>\n",
       "      <th>0</th>\n",
       "      <td>July</td>\n",
       "      <td>48%</td>\n",
       "      <td>42%</td>\n",
       "    </tr>\n",
       "    <tr>\n",
       "      <th>1</th>\n",
       "      <td>July</td>\n",
       "      <td>44%</td>\n",
       "      <td>43%</td>\n",
       "    </tr>\n",
       "    <tr>\n",
       "      <th>2</th>\n",
       "      <td>August</td>\n",
       "      <td>45%</td>\n",
       "      <td>43%</td>\n",
       "    </tr>\n",
       "    <tr>\n",
       "      <th>3</th>\n",
       "      <td>August</td>\n",
       "      <td>46%</td>\n",
       "      <td>44%</td>\n",
       "    </tr>\n",
       "    <tr>\n",
       "      <th>4</th>\n",
       "      <td>September</td>\n",
       "      <td>49%</td>\n",
       "      <td>40%</td>\n",
       "    </tr>\n",
       "    <tr>\n",
       "      <th>5</th>\n",
       "      <td>October</td>\n",
       "      <td>50%</td>\n",
       "      <td>40%</td>\n",
       "    </tr>\n",
       "    <tr>\n",
       "      <th>6</th>\n",
       "      <td>October</td>\n",
       "      <td>51%</td>\n",
       "      <td>42%</td>\n",
       "    </tr>\n",
       "    <tr>\n",
       "      <th>7</th>\n",
       "      <td>October</td>\n",
       "      <td>52%</td>\n",
       "      <td>48%</td>\n",
       "    </tr>\n",
       "    <tr>\n",
       "      <th>8</th>\n",
       "      <td>Actual result</td>\n",
       "      <td>54.72%</td>\n",
       "      <td>44.77%</td>\n",
       "    </tr>\n",
       "    <tr>\n",
       "      <th>9</th>\n",
       "      <td>Difference between actual result and final poll</td>\n",
       "      <td>+2.72%</td>\n",
       "      <td>-3.23%</td>\n",
       "    </tr>\n",
       "  </tbody>\n",
       "</table>\n",
       "</div>"
      ],
      "text/plain": [
       "                                             Month  \\\n",
       "0                                             July   \n",
       "1                                             July   \n",
       "2                                           August   \n",
       "3                                           August   \n",
       "4                                        September   \n",
       "5                                          October   \n",
       "6                                          October   \n",
       "7                                          October   \n",
       "8                                    Actual result   \n",
       "9  Difference between actual result and final poll   \n",
       "\n",
       "  Franklin D. Roosevelt (D) % Wendell Willkie (R)%  \n",
       "0                         48%                  42%  \n",
       "1                         44%                  43%  \n",
       "2                         45%                  43%  \n",
       "3                         46%                  44%  \n",
       "4                         49%                  40%  \n",
       "5                         50%                  40%  \n",
       "6                         51%                  42%  \n",
       "7                         52%                  48%  \n",
       "8                      54.72%               44.77%  \n",
       "9                      +2.72%               -3.23%  "
      ]
     },
     "execution_count": 23,
     "metadata": {},
     "output_type": "execute_result"
    }
   ],
   "source": [
    "# Load the 1940 table manually by index\n",
    "df_2 = pd.read_html(str(tables2[1]))[0]\n",
    "\n",
    "df_2.head(25)"
   ]
  },
  {
   "cell_type": "code",
   "execution_count": 24,
   "id": "e37074a5-cf78-4d90-a9b9-8e6e4b6205df",
   "metadata": {},
   "outputs": [],
   "source": [
    "# My priority is consistency across all years and since only some years have this sample size and margin of error data in this dataset\n",
    "# I am choosing to exclude it for fairness.\n",
    "# All my datasets will only have the poll_democrat, poll_republican, poll_leader_margin and poll_leader columns for analysys"
   ]
  },
  {
   "cell_type": "code",
   "execution_count": 25,
   "id": "85f13153-4fe7-4f4a-88b2-fbad48417075",
   "metadata": {},
   "outputs": [
    {
     "data": {
      "text/html": [
       "<div>\n",
       "<style scoped>\n",
       "    .dataframe tbody tr th:only-of-type {\n",
       "        vertical-align: middle;\n",
       "    }\n",
       "\n",
       "    .dataframe tbody tr th {\n",
       "        vertical-align: top;\n",
       "    }\n",
       "\n",
       "    .dataframe thead th {\n",
       "        text-align: right;\n",
       "    }\n",
       "</style>\n",
       "<table border=\"1\" class=\"dataframe\">\n",
       "  <thead>\n",
       "    <tr style=\"text-align: right;\">\n",
       "      <th></th>\n",
       "      <th>Month</th>\n",
       "      <th>Democratic</th>\n",
       "      <th>Republican</th>\n",
       "    </tr>\n",
       "  </thead>\n",
       "  <tbody>\n",
       "    <tr>\n",
       "      <th>0</th>\n",
       "      <td>July</td>\n",
       "      <td>48%</td>\n",
       "      <td>42%</td>\n",
       "    </tr>\n",
       "    <tr>\n",
       "      <th>1</th>\n",
       "      <td>July</td>\n",
       "      <td>44%</td>\n",
       "      <td>43%</td>\n",
       "    </tr>\n",
       "    <tr>\n",
       "      <th>2</th>\n",
       "      <td>August</td>\n",
       "      <td>45%</td>\n",
       "      <td>43%</td>\n",
       "    </tr>\n",
       "    <tr>\n",
       "      <th>3</th>\n",
       "      <td>August</td>\n",
       "      <td>46%</td>\n",
       "      <td>44%</td>\n",
       "    </tr>\n",
       "    <tr>\n",
       "      <th>4</th>\n",
       "      <td>September</td>\n",
       "      <td>49%</td>\n",
       "      <td>40%</td>\n",
       "    </tr>\n",
       "  </tbody>\n",
       "</table>\n",
       "</div>"
      ],
      "text/plain": [
       "       Month Democratic Republican\n",
       "0       July        48%        42%\n",
       "1       July        44%        43%\n",
       "2     August        45%        43%\n",
       "3     August        46%        44%\n",
       "4  September        49%        40%"
      ]
     },
     "execution_count": 25,
     "metadata": {},
     "output_type": "execute_result"
    }
   ],
   "source": [
    "# Rename columns for consistency\n",
    "df_2 = df_2.rename(columns={\n",
    "    df_2.columns[1]: 'Democratic',\n",
    "    df_2.columns[2]: 'Republican'\n",
    "})\n",
    "\n",
    "df_2.head()"
   ]
  },
  {
   "cell_type": "code",
   "execution_count": 26,
   "id": "78a47f74-31c6-43d4-a8fb-533179abdf7b",
   "metadata": {},
   "outputs": [
    {
     "data": {
      "text/plain": [
       "Month         object\n",
       "Democratic    object\n",
       "Republican    object\n",
       "dtype: object"
      ]
     },
     "execution_count": 26,
     "metadata": {},
     "output_type": "execute_result"
    }
   ],
   "source": [
    "df_2.dtypes"
   ]
  },
  {
   "cell_type": "code",
   "execution_count": 27,
   "id": "34ed1c7c-7df7-40e6-80b5-0e2c047319f5",
   "metadata": {},
   "outputs": [],
   "source": [
    "# Convert to float \n",
    "df_2['Democratic'] = df_2['Democratic'].str.replace('%', '').astype(float)\n",
    "df_2['Republican'] = df_2['Republican'].str.replace('%', '').astype(float)"
   ]
  },
  {
   "cell_type": "code",
   "execution_count": 28,
   "id": "b676a66a-0173-49af-a72d-e0b0067dcfa7",
   "metadata": {},
   "outputs": [
    {
     "data": {
      "text/plain": [
       "Month          object\n",
       "Democratic    float64\n",
       "Republican    float64\n",
       "dtype: object"
      ]
     },
     "execution_count": 28,
     "metadata": {},
     "output_type": "execute_result"
    }
   ],
   "source": [
    "df_2.dtypes"
   ]
  },
  {
   "cell_type": "code",
   "execution_count": 29,
   "id": "e4c4ae7b-b97e-4c27-a274-f27fd9a8edd7",
   "metadata": {},
   "outputs": [],
   "source": [
    "# Create Poll_Leading_Margin (absolute difference)\n",
    "df_2['Poll_Leading_Margin'] = abs(df_2['Democratic'] - df_2['Republican'])"
   ]
  },
  {
   "cell_type": "code",
   "execution_count": 30,
   "id": "964bcd1c-6e63-4e2a-859c-ae9375f3df45",
   "metadata": {},
   "outputs": [],
   "source": [
    "# Create Poll_Leader (0 = Democrat leads, 1 = Republican leads)\n",
    "df_2['Poll_Leader'] = (df_2['Republican'] > df_2['Democratic']).astype(int)"
   ]
  },
  {
   "cell_type": "code",
   "execution_count": 31,
   "id": "38a9acdd-d668-46cc-820d-e011a15dcff7",
   "metadata": {},
   "outputs": [
    {
     "data": {
      "text/plain": [
       "Month                   object\n",
       "Democratic             float64\n",
       "Republican             float64\n",
       "Poll_Leading_Margin    float64\n",
       "Poll_Leader              int64\n",
       "dtype: object"
      ]
     },
     "execution_count": 31,
     "metadata": {},
     "output_type": "execute_result"
    }
   ],
   "source": [
    "df_2.dtypes"
   ]
  },
  {
   "cell_type": "code",
   "execution_count": 32,
   "id": "4aa2be6c-23c9-424a-92fd-ec8d7a82b9d5",
   "metadata": {},
   "outputs": [
    {
     "data": {
      "text/html": [
       "<div>\n",
       "<style scoped>\n",
       "    .dataframe tbody tr th:only-of-type {\n",
       "        vertical-align: middle;\n",
       "    }\n",
       "\n",
       "    .dataframe tbody tr th {\n",
       "        vertical-align: top;\n",
       "    }\n",
       "\n",
       "    .dataframe thead th {\n",
       "        text-align: right;\n",
       "    }\n",
       "</style>\n",
       "<table border=\"1\" class=\"dataframe\">\n",
       "  <thead>\n",
       "    <tr style=\"text-align: right;\">\n",
       "      <th></th>\n",
       "      <th>Month</th>\n",
       "      <th>Democratic</th>\n",
       "      <th>Republican</th>\n",
       "      <th>Poll_Leading_Margin</th>\n",
       "      <th>Poll_Leader</th>\n",
       "    </tr>\n",
       "  </thead>\n",
       "  <tbody>\n",
       "    <tr>\n",
       "      <th>0</th>\n",
       "      <td>July</td>\n",
       "      <td>48.00</td>\n",
       "      <td>42.00</td>\n",
       "      <td>6.00</td>\n",
       "      <td>0</td>\n",
       "    </tr>\n",
       "    <tr>\n",
       "      <th>1</th>\n",
       "      <td>July</td>\n",
       "      <td>44.00</td>\n",
       "      <td>43.00</td>\n",
       "      <td>1.00</td>\n",
       "      <td>0</td>\n",
       "    </tr>\n",
       "    <tr>\n",
       "      <th>2</th>\n",
       "      <td>August</td>\n",
       "      <td>45.00</td>\n",
       "      <td>43.00</td>\n",
       "      <td>2.00</td>\n",
       "      <td>0</td>\n",
       "    </tr>\n",
       "    <tr>\n",
       "      <th>3</th>\n",
       "      <td>August</td>\n",
       "      <td>46.00</td>\n",
       "      <td>44.00</td>\n",
       "      <td>2.00</td>\n",
       "      <td>0</td>\n",
       "    </tr>\n",
       "    <tr>\n",
       "      <th>4</th>\n",
       "      <td>September</td>\n",
       "      <td>49.00</td>\n",
       "      <td>40.00</td>\n",
       "      <td>9.00</td>\n",
       "      <td>0</td>\n",
       "    </tr>\n",
       "    <tr>\n",
       "      <th>5</th>\n",
       "      <td>October</td>\n",
       "      <td>50.00</td>\n",
       "      <td>40.00</td>\n",
       "      <td>10.00</td>\n",
       "      <td>0</td>\n",
       "    </tr>\n",
       "    <tr>\n",
       "      <th>6</th>\n",
       "      <td>October</td>\n",
       "      <td>51.00</td>\n",
       "      <td>42.00</td>\n",
       "      <td>9.00</td>\n",
       "      <td>0</td>\n",
       "    </tr>\n",
       "    <tr>\n",
       "      <th>7</th>\n",
       "      <td>October</td>\n",
       "      <td>52.00</td>\n",
       "      <td>48.00</td>\n",
       "      <td>4.00</td>\n",
       "      <td>0</td>\n",
       "    </tr>\n",
       "    <tr>\n",
       "      <th>8</th>\n",
       "      <td>Actual result</td>\n",
       "      <td>54.72</td>\n",
       "      <td>44.77</td>\n",
       "      <td>9.95</td>\n",
       "      <td>0</td>\n",
       "    </tr>\n",
       "    <tr>\n",
       "      <th>9</th>\n",
       "      <td>Difference between actual result and final poll</td>\n",
       "      <td>2.72</td>\n",
       "      <td>-3.23</td>\n",
       "      <td>5.95</td>\n",
       "      <td>0</td>\n",
       "    </tr>\n",
       "  </tbody>\n",
       "</table>\n",
       "</div>"
      ],
      "text/plain": [
       "                                             Month  Democratic  Republican  \\\n",
       "0                                             July       48.00       42.00   \n",
       "1                                             July       44.00       43.00   \n",
       "2                                           August       45.00       43.00   \n",
       "3                                           August       46.00       44.00   \n",
       "4                                        September       49.00       40.00   \n",
       "5                                          October       50.00       40.00   \n",
       "6                                          October       51.00       42.00   \n",
       "7                                          October       52.00       48.00   \n",
       "8                                    Actual result       54.72       44.77   \n",
       "9  Difference between actual result and final poll        2.72       -3.23   \n",
       "\n",
       "   Poll_Leading_Margin  Poll_Leader  \n",
       "0                 6.00            0  \n",
       "1                 1.00            0  \n",
       "2                 2.00            0  \n",
       "3                 2.00            0  \n",
       "4                 9.00            0  \n",
       "5                10.00            0  \n",
       "6                 9.00            0  \n",
       "7                 4.00            0  \n",
       "8                 9.95            0  \n",
       "9                 5.95            0  "
      ]
     },
     "execution_count": 32,
     "metadata": {},
     "output_type": "execute_result"
    }
   ],
   "source": [
    "df_2.head(20)"
   ]
  },
  {
   "cell_type": "code",
   "execution_count": 33,
   "id": "283b525d-2290-46c9-b68c-7bf3553d5b41",
   "metadata": {},
   "outputs": [
    {
     "data": {
      "text/html": [
       "<div>\n",
       "<style scoped>\n",
       "    .dataframe tbody tr th:only-of-type {\n",
       "        vertical-align: middle;\n",
       "    }\n",
       "\n",
       "    .dataframe tbody tr th {\n",
       "        vertical-align: top;\n",
       "    }\n",
       "\n",
       "    .dataframe thead th {\n",
       "        text-align: right;\n",
       "    }\n",
       "</style>\n",
       "<table border=\"1\" class=\"dataframe\">\n",
       "  <thead>\n",
       "    <tr style=\"text-align: right;\">\n",
       "      <th></th>\n",
       "      <th>Democratic</th>\n",
       "      <th>Republican</th>\n",
       "      <th>Poll_Leading_Margin</th>\n",
       "      <th>Poll_Leader</th>\n",
       "    </tr>\n",
       "  </thead>\n",
       "  <tbody>\n",
       "    <tr>\n",
       "      <th>0</th>\n",
       "      <td>48.00</td>\n",
       "      <td>42.00</td>\n",
       "      <td>6.00</td>\n",
       "      <td>0</td>\n",
       "    </tr>\n",
       "    <tr>\n",
       "      <th>1</th>\n",
       "      <td>44.00</td>\n",
       "      <td>43.00</td>\n",
       "      <td>1.00</td>\n",
       "      <td>0</td>\n",
       "    </tr>\n",
       "    <tr>\n",
       "      <th>2</th>\n",
       "      <td>45.00</td>\n",
       "      <td>43.00</td>\n",
       "      <td>2.00</td>\n",
       "      <td>0</td>\n",
       "    </tr>\n",
       "    <tr>\n",
       "      <th>3</th>\n",
       "      <td>46.00</td>\n",
       "      <td>44.00</td>\n",
       "      <td>2.00</td>\n",
       "      <td>0</td>\n",
       "    </tr>\n",
       "    <tr>\n",
       "      <th>4</th>\n",
       "      <td>49.00</td>\n",
       "      <td>40.00</td>\n",
       "      <td>9.00</td>\n",
       "      <td>0</td>\n",
       "    </tr>\n",
       "    <tr>\n",
       "      <th>5</th>\n",
       "      <td>50.00</td>\n",
       "      <td>40.00</td>\n",
       "      <td>10.00</td>\n",
       "      <td>0</td>\n",
       "    </tr>\n",
       "    <tr>\n",
       "      <th>6</th>\n",
       "      <td>51.00</td>\n",
       "      <td>42.00</td>\n",
       "      <td>9.00</td>\n",
       "      <td>0</td>\n",
       "    </tr>\n",
       "    <tr>\n",
       "      <th>7</th>\n",
       "      <td>52.00</td>\n",
       "      <td>48.00</td>\n",
       "      <td>4.00</td>\n",
       "      <td>0</td>\n",
       "    </tr>\n",
       "    <tr>\n",
       "      <th>8</th>\n",
       "      <td>54.72</td>\n",
       "      <td>44.77</td>\n",
       "      <td>9.95</td>\n",
       "      <td>0</td>\n",
       "    </tr>\n",
       "    <tr>\n",
       "      <th>9</th>\n",
       "      <td>2.72</td>\n",
       "      <td>-3.23</td>\n",
       "      <td>5.95</td>\n",
       "      <td>0</td>\n",
       "    </tr>\n",
       "  </tbody>\n",
       "</table>\n",
       "</div>"
      ],
      "text/plain": [
       "   Democratic  Republican  Poll_Leading_Margin  Poll_Leader\n",
       "0       48.00       42.00                 6.00            0\n",
       "1       44.00       43.00                 1.00            0\n",
       "2       45.00       43.00                 2.00            0\n",
       "3       46.00       44.00                 2.00            0\n",
       "4       49.00       40.00                 9.00            0\n",
       "5       50.00       40.00                10.00            0\n",
       "6       51.00       42.00                 9.00            0\n",
       "7       52.00       48.00                 4.00            0\n",
       "8       54.72       44.77                 9.95            0\n",
       "9        2.72       -3.23                 5.95            0"
      ]
     },
     "execution_count": 33,
     "metadata": {},
     "output_type": "execute_result"
    }
   ],
   "source": [
    "df_2 = df_2.drop(columns='Month')\n",
    "\n",
    "df_2.head(25)"
   ]
  },
  {
   "cell_type": "code",
   "execution_count": 34,
   "id": "d70b5b12-8e06-4844-b364-c680e08b12cd",
   "metadata": {},
   "outputs": [
    {
     "data": {
      "text/html": [
       "<div>\n",
       "<style scoped>\n",
       "    .dataframe tbody tr th:only-of-type {\n",
       "        vertical-align: middle;\n",
       "    }\n",
       "\n",
       "    .dataframe tbody tr th {\n",
       "        vertical-align: top;\n",
       "    }\n",
       "\n",
       "    .dataframe thead th {\n",
       "        text-align: right;\n",
       "    }\n",
       "</style>\n",
       "<table border=\"1\" class=\"dataframe\">\n",
       "  <thead>\n",
       "    <tr style=\"text-align: right;\">\n",
       "      <th></th>\n",
       "      <th>Democratic</th>\n",
       "      <th>Republican</th>\n",
       "      <th>Poll_Leading_Margin</th>\n",
       "      <th>Poll_Leader</th>\n",
       "    </tr>\n",
       "  </thead>\n",
       "  <tbody>\n",
       "    <tr>\n",
       "      <th>3</th>\n",
       "      <td>46.0</td>\n",
       "      <td>44.0</td>\n",
       "      <td>2.0</td>\n",
       "      <td>0</td>\n",
       "    </tr>\n",
       "    <tr>\n",
       "      <th>4</th>\n",
       "      <td>49.0</td>\n",
       "      <td>40.0</td>\n",
       "      <td>9.0</td>\n",
       "      <td>0</td>\n",
       "    </tr>\n",
       "    <tr>\n",
       "      <th>5</th>\n",
       "      <td>50.0</td>\n",
       "      <td>40.0</td>\n",
       "      <td>10.0</td>\n",
       "      <td>0</td>\n",
       "    </tr>\n",
       "    <tr>\n",
       "      <th>6</th>\n",
       "      <td>51.0</td>\n",
       "      <td>42.0</td>\n",
       "      <td>9.0</td>\n",
       "      <td>0</td>\n",
       "    </tr>\n",
       "    <tr>\n",
       "      <th>7</th>\n",
       "      <td>52.0</td>\n",
       "      <td>48.0</td>\n",
       "      <td>4.0</td>\n",
       "      <td>0</td>\n",
       "    </tr>\n",
       "  </tbody>\n",
       "</table>\n",
       "</div>"
      ],
      "text/plain": [
       "   Democratic  Republican  Poll_Leading_Margin  Poll_Leader\n",
       "3        46.0        44.0                  2.0            0\n",
       "4        49.0        40.0                  9.0            0\n",
       "5        50.0        40.0                 10.0            0\n",
       "6        51.0        42.0                  9.0            0\n",
       "7        52.0        48.0                  4.0            0"
      ]
     },
     "execution_count": 34,
     "metadata": {},
     "output_type": "execute_result"
    }
   ],
   "source": [
    "#Drop Row 8 and row 9 \n",
    "df_2 = df_2.drop(index=[8, 9])\n",
    "df_2.reset_index(drop=True, inplace=True)  \n",
    "\n",
    "df_2.tail()"
   ]
  },
  {
   "cell_type": "code",
   "execution_count": 16,
   "id": "e8eb3b2e-5c25-4e8c-9513-896106bc3669",
   "metadata": {},
   "outputs": [
    {
     "data": {
      "text/plain": [
       "Democratic             float64\n",
       "Republican             float64\n",
       "Poll_Leading_Margin    float64\n",
       "Poll_Leader              int64\n",
       "dtype: object"
      ]
     },
     "execution_count": 16,
     "metadata": {},
     "output_type": "execute_result"
    }
   ],
   "source": [
    "df_2.dtypes"
   ]
  },
  {
   "cell_type": "code",
   "execution_count": 35,
   "id": "6df9c5c7-9fb0-48b8-be86-16f4c1e6ee8e",
   "metadata": {},
   "outputs": [
    {
     "data": {
      "text/html": [
       "<div>\n",
       "<style scoped>\n",
       "    .dataframe tbody tr th:only-of-type {\n",
       "        vertical-align: middle;\n",
       "    }\n",
       "\n",
       "    .dataframe tbody tr th {\n",
       "        vertical-align: top;\n",
       "    }\n",
       "\n",
       "    .dataframe thead th {\n",
       "        text-align: right;\n",
       "    }\n",
       "</style>\n",
       "<table border=\"1\" class=\"dataframe\">\n",
       "  <thead>\n",
       "    <tr style=\"text-align: right;\">\n",
       "      <th></th>\n",
       "      <th>year</th>\n",
       "      <th>Democratic</th>\n",
       "      <th>Republican</th>\n",
       "      <th>Poll_Leading_Margin</th>\n",
       "      <th>Poll_Leader</th>\n",
       "    </tr>\n",
       "  </thead>\n",
       "  <tbody>\n",
       "    <tr>\n",
       "      <th>0</th>\n",
       "      <td>1940</td>\n",
       "      <td>48.0</td>\n",
       "      <td>42.0</td>\n",
       "      <td>6.0</td>\n",
       "      <td>0</td>\n",
       "    </tr>\n",
       "    <tr>\n",
       "      <th>1</th>\n",
       "      <td>1940</td>\n",
       "      <td>44.0</td>\n",
       "      <td>43.0</td>\n",
       "      <td>1.0</td>\n",
       "      <td>0</td>\n",
       "    </tr>\n",
       "    <tr>\n",
       "      <th>2</th>\n",
       "      <td>1940</td>\n",
       "      <td>45.0</td>\n",
       "      <td>43.0</td>\n",
       "      <td>2.0</td>\n",
       "      <td>0</td>\n",
       "    </tr>\n",
       "    <tr>\n",
       "      <th>3</th>\n",
       "      <td>1940</td>\n",
       "      <td>46.0</td>\n",
       "      <td>44.0</td>\n",
       "      <td>2.0</td>\n",
       "      <td>0</td>\n",
       "    </tr>\n",
       "    <tr>\n",
       "      <th>4</th>\n",
       "      <td>1940</td>\n",
       "      <td>49.0</td>\n",
       "      <td>40.0</td>\n",
       "      <td>9.0</td>\n",
       "      <td>0</td>\n",
       "    </tr>\n",
       "  </tbody>\n",
       "</table>\n",
       "</div>"
      ],
      "text/plain": [
       "   year  Democratic  Republican  Poll_Leading_Margin  Poll_Leader\n",
       "0  1940        48.0        42.0                  6.0            0\n",
       "1  1940        44.0        43.0                  1.0            0\n",
       "2  1940        45.0        43.0                  2.0            0\n",
       "3  1940        46.0        44.0                  2.0            0\n",
       "4  1940        49.0        40.0                  9.0            0"
      ]
     },
     "execution_count": 35,
     "metadata": {},
     "output_type": "execute_result"
    }
   ],
   "source": [
    "# Add year 1940 column at the start\n",
    "df_2.insert(0, 'year', 1940)\n",
    "\n",
    "df_2.head()"
   ]
  },
  {
   "cell_type": "code",
   "execution_count": 18,
   "id": "c7ac851c-e4d5-406c-9a5d-84c10a35435d",
   "metadata": {},
   "outputs": [],
   "source": [
    "df_2.to_csv(\"1940_Opinion_Polling_Data.csv\", index=False)"
   ]
  },
  {
   "cell_type": "code",
   "execution_count": null,
   "id": "ce283b77-7e82-4cc8-98ba-d421cc35db85",
   "metadata": {},
   "outputs": [],
   "source": []
  },
  {
   "cell_type": "code",
   "execution_count": null,
   "id": "5e41209f-217c-45ba-a517-4c7bf07cb057",
   "metadata": {},
   "outputs": [],
   "source": []
  }
 ],
 "metadata": {
  "kernelspec": {
   "display_name": "Python [conda env:base] *",
   "language": "python",
   "name": "conda-base-py"
  },
  "language_info": {
   "codemirror_mode": {
    "name": "ipython",
    "version": 3
   },
   "file_extension": ".py",
   "mimetype": "text/x-python",
   "name": "python",
   "nbconvert_exporter": "python",
   "pygments_lexer": "ipython3",
   "version": "3.12.7"
  }
 },
 "nbformat": 4,
 "nbformat_minor": 5
}
