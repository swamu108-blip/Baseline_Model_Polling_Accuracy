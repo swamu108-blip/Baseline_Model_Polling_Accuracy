{
 "cells": [
  {
   "cell_type": "code",
   "execution_count": 1,
   "id": "fa529407-d7c5-4e95-83ae-d1bde5792237",
   "metadata": {},
   "outputs": [],
   "source": [
    "import requests\n",
    "from bs4 import BeautifulSoup\n",
    "import pandas as pd"
   ]
  },
  {
   "cell_type": "code",
   "execution_count": 2,
   "id": "b742d608-2eff-4c46-a444-6118f6aa4497",
   "metadata": {},
   "outputs": [
    {
     "data": {
      "text/plain": [
       "200"
      ]
     },
     "execution_count": 2,
     "metadata": {},
     "output_type": "execute_result"
    }
   ],
   "source": [
    "# 1936 election page\n",
    "url = \"https://www.270towin.com/1936-election\"\n",
    "response = requests.get(url)\n",
    "soup = BeautifulSoup(response.content, \"html.parser\")\n",
    "\n",
    "response.status_code"
   ]
  },
  {
   "cell_type": "code",
   "execution_count": 3,
   "id": "2f5053b4-83bb-4c17-8d49-7328a3d70390",
   "metadata": {},
   "outputs": [
    {
     "data": {
      "text/html": [
       "<div>\n",
       "<style scoped>\n",
       "    .dataframe tbody tr th:only-of-type {\n",
       "        vertical-align: middle;\n",
       "    }\n",
       "\n",
       "    .dataframe tbody tr th {\n",
       "        vertical-align: top;\n",
       "    }\n",
       "\n",
       "    .dataframe thead th {\n",
       "        text-align: right;\n",
       "    }\n",
       "</style>\n",
       "<table border=\"1\" class=\"dataframe\">\n",
       "  <thead>\n",
       "    <tr style=\"text-align: right;\">\n",
       "      <th></th>\n",
       "      <th>Unnamed: 0</th>\n",
       "      <th>Unnamed: 1</th>\n",
       "      <th>Candidate</th>\n",
       "      <th>Party</th>\n",
       "      <th>Electoral Votes</th>\n",
       "      <th>Popular Votes</th>\n",
       "    </tr>\n",
       "  </thead>\n",
       "  <tbody>\n",
       "    <tr>\n",
       "      <th>0</th>\n",
       "      <td>â</td>\n",
       "      <td>NaN</td>\n",
       "      <td>Franklin D. Roosevelt (I)</td>\n",
       "      <td>Democratic</td>\n",
       "      <td>523</td>\n",
       "      <td>27751597</td>\n",
       "    </tr>\n",
       "    <tr>\n",
       "      <th>1</th>\n",
       "      <td>NaN</td>\n",
       "      <td>NaN</td>\n",
       "      <td>Alfred M. Landon</td>\n",
       "      <td>Republican</td>\n",
       "      <td>8</td>\n",
       "      <td>16679583</td>\n",
       "    </tr>\n",
       "  </tbody>\n",
       "</table>\n",
       "</div>"
      ],
      "text/plain": [
       "  Unnamed: 0  Unnamed: 1                  Candidate       Party  \\\n",
       "0        â         NaN  Franklin D. Roosevelt (I)  Democratic   \n",
       "1        NaN         NaN           Alfred M. Landon  Republican   \n",
       "\n",
       "   Electoral Votes  Popular Votes  \n",
       "0              523       27751597  \n",
       "1                8       16679583  "
      ]
     },
     "metadata": {},
     "output_type": "display_data"
    }
   ],
   "source": [
    "# Show scraped table\n",
    "tables = pd.read_html(url)\n",
    "\n",
    "df = tables[0]\n",
    "\n",
    "display(df)"
   ]
  },
  {
   "cell_type": "code",
   "execution_count": 4,
   "id": "120d61eb-3292-49eb-a907-b4c87799cd8d",
   "metadata": {},
   "outputs": [
    {
     "data": {
      "text/html": [
       "<div>\n",
       "<style scoped>\n",
       "    .dataframe tbody tr th:only-of-type {\n",
       "        vertical-align: middle;\n",
       "    }\n",
       "\n",
       "    .dataframe tbody tr th {\n",
       "        vertical-align: top;\n",
       "    }\n",
       "\n",
       "    .dataframe thead th {\n",
       "        text-align: right;\n",
       "    }\n",
       "</style>\n",
       "<table border=\"1\" class=\"dataframe\">\n",
       "  <thead>\n",
       "    <tr style=\"text-align: right;\">\n",
       "      <th></th>\n",
       "      <th>Party</th>\n",
       "      <th>Electoral Votes</th>\n",
       "      <th>Popular Votes</th>\n",
       "    </tr>\n",
       "  </thead>\n",
       "  <tbody>\n",
       "    <tr>\n",
       "      <th>0</th>\n",
       "      <td>Democratic</td>\n",
       "      <td>523</td>\n",
       "      <td>27751597</td>\n",
       "    </tr>\n",
       "    <tr>\n",
       "      <th>1</th>\n",
       "      <td>Republican</td>\n",
       "      <td>8</td>\n",
       "      <td>16679583</td>\n",
       "    </tr>\n",
       "  </tbody>\n",
       "</table>\n",
       "</div>"
      ],
      "text/plain": [
       "        Party  Electoral Votes  Popular Votes\n",
       "0  Democratic              523       27751597\n",
       "1  Republican                8       16679583"
      ]
     },
     "execution_count": 4,
     "metadata": {},
     "output_type": "execute_result"
    }
   ],
   "source": [
    "# Drop first 3 columns\n",
    "df = df.iloc[:, 3:]\n",
    "\n",
    "df.head()"
   ]
  },
  {
   "cell_type": "code",
   "execution_count": 6,
   "id": "45c0fd13-3782-4089-a68d-608054ac5c31",
   "metadata": {},
   "outputs": [],
   "source": [
    "# Let's create our needed columns and calulcate the values that go in them\n",
    "\n",
    "# Extract vote counts\n",
    "dem_electoral = int(df[df['Party'] == 'Democratic']['Electoral Votes'].values[0])\n",
    "rep_electoral = int(df[df['Party'] == 'Republican']['Electoral Votes'].values[0])\n",
    "total_electoral = 270\n",
    "\n",
    "dem_popular = int(df[df['Party'] == 'Democratic']['Popular Votes'].values[0])\n",
    "rep_popular = int(df[df['Party'] == 'Republican']['Popular Votes'].values[0])\n",
    "total_popular = dem_popular + rep_popular"
   ]
  },
  {
   "cell_type": "code",
   "execution_count": 7,
   "id": "cca468c9-6184-432e-8154-81114d4f3661",
   "metadata": {},
   "outputs": [],
   "source": [
    "# Calculate percentages out of 270\n",
    "dem_electoral_pct = round((dem_electoral / total_electoral) * 100, 2)\n",
    "rep_electoral_pct = round((rep_electoral / total_electoral) * 100, 2)\n",
    "\n",
    "# Calculate percentages of total popular vote\n",
    "dem_popular_pct = round((dem_popular / total_popular) * 100, 2)\n",
    "rep_popular_pct = round((rep_popular / total_popular) * 100, 2)"
   ]
  },
  {
   "cell_type": "code",
   "execution_count": 8,
   "id": "99aaf1e8-af53-4ac8-8b2b-32b8907b613d",
   "metadata": {},
   "outputs": [],
   "source": [
    "# Margins\n",
    "electoral_margin = round(abs(dem_electoral_pct - rep_electoral_pct), 2)\n",
    "popular_margin = round(abs(dem_popular_pct - rep_popular_pct), 2)"
   ]
  },
  {
   "cell_type": "code",
   "execution_count": 10,
   "id": "411450d4-314b-476a-8963-06619f62d5a5",
   "metadata": {},
   "outputs": [
    {
     "data": {
      "text/html": [
       "<div>\n",
       "<style scoped>\n",
       "    .dataframe tbody tr th:only-of-type {\n",
       "        vertical-align: middle;\n",
       "    }\n",
       "\n",
       "    .dataframe tbody tr th {\n",
       "        vertical-align: top;\n",
       "    }\n",
       "\n",
       "    .dataframe thead th {\n",
       "        text-align: right;\n",
       "    }\n",
       "</style>\n",
       "<table border=\"1\" class=\"dataframe\">\n",
       "  <thead>\n",
       "    <tr style=\"text-align: right;\">\n",
       "      <th></th>\n",
       "      <th>year</th>\n",
       "      <th>Republican_Electoral</th>\n",
       "      <th>Democrat_Electoral</th>\n",
       "      <th>Republican_Popular</th>\n",
       "      <th>Democrat_Popular</th>\n",
       "      <th>Total_Popular_Vote (Total votes cast in Presidential Election)</th>\n",
       "      <th>Republican_Electoral_pct (out of 270)</th>\n",
       "      <th>Democrat_Electoral_pct (out of 270)</th>\n",
       "      <th>Republican_Popular_pct (Out of total votes cast in Presidential Election)</th>\n",
       "      <th>Democrat_Popular_pct (Out of total votes cast in Presidential Election)</th>\n",
       "      <th>Electoral_Leading_Margin (difference between dem and rep electorial pct)</th>\n",
       "      <th>Popular_Leading_Margin (difference between dem and rep popular vote pct)</th>\n",
       "    </tr>\n",
       "  </thead>\n",
       "  <tbody>\n",
       "    <tr>\n",
       "      <th>0</th>\n",
       "      <td>1936</td>\n",
       "      <td>8</td>\n",
       "      <td>523</td>\n",
       "      <td>16679583</td>\n",
       "      <td>27751597</td>\n",
       "      <td>44431180</td>\n",
       "      <td>2.96</td>\n",
       "      <td>193.7</td>\n",
       "      <td>37.54</td>\n",
       "      <td>62.46</td>\n",
       "      <td>190.74</td>\n",
       "      <td>24.92</td>\n",
       "    </tr>\n",
       "  </tbody>\n",
       "</table>\n",
       "</div>"
      ],
      "text/plain": [
       "   year  Republican_Electoral  Democrat_Electoral  Republican_Popular  \\\n",
       "0  1936                     8                 523            16679583   \n",
       "\n",
       "   Democrat_Popular  \\\n",
       "0          27751597   \n",
       "\n",
       "   Total_Popular_Vote (Total votes cast in Presidential Election)  \\\n",
       "0                                           44431180                \n",
       "\n",
       "   Republican_Electoral_pct (out of 270)  Democrat_Electoral_pct (out of 270)  \\\n",
       "0                                   2.96                                193.7   \n",
       "\n",
       "   Republican_Popular_pct (Out of total votes cast in Presidential Election)  \\\n",
       "0                                              37.54                           \n",
       "\n",
       "   Democrat_Popular_pct (Out of total votes cast in Presidential Election)  \\\n",
       "0                                              62.46                         \n",
       "\n",
       "   Electoral_Leading_Margin (difference between dem and rep electorial pct)  \\\n",
       "0                                             190.74                          \n",
       "\n",
       "   Popular_Leading_Margin (difference between dem and rep popular vote pct)  \n",
       "0                                              24.92                         "
      ]
     },
     "metadata": {},
     "output_type": "display_data"
    }
   ],
   "source": [
    "# Final dataframe\n",
    "final_df = pd.DataFrame({\n",
    "    'year': [1936],\n",
    "    'Republican_Electoral': [rep_electoral],\n",
    "    'Democrat_Electoral': [dem_electoral],\n",
    "    'Republican_Popular': [rep_popular],\n",
    "    'Democrat_Popular': [dem_popular],\n",
    "    'Total_Popular_Vote (Total votes cast in Presidential Election)': [total_popular],\n",
    "    'Republican_Electoral_pct (out of 270)': [rep_electoral_pct],\n",
    "    'Democrat_Electoral_pct (out of 270)': [dem_electoral_pct],\n",
    "    'Republican_Popular_pct (Out of total votes cast in Presidential Election)': [rep_popular_pct],\n",
    "    'Democrat_Popular_pct (Out of total votes cast in Presidential Election)': [dem_popular_pct],\n",
    "    'Electoral_Leading_Margin (difference between dem and rep electorial pct)': [electoral_margin],\n",
    "    'Popular_Leading_Margin (difference between dem and rep popular vote pct)': [popular_margin]\n",
    "})\n",
    "\n",
    "# View final output\n",
    "display(final_df)\n",
    "\n",
    "final_df.to_csv(\"1936_Actual_Election_Results.csv\", index=False)"
   ]
  },
  {
   "cell_type": "code",
   "execution_count": null,
   "id": "14ee54c4-4b43-4dc4-9a7c-02c6bacdefee",
   "metadata": {},
   "outputs": [],
   "source": []
  }
 ],
 "metadata": {
  "kernelspec": {
   "display_name": "Python [conda env:base] *",
   "language": "python",
   "name": "conda-base-py"
  },
  "language_info": {
   "codemirror_mode": {
    "name": "ipython",
    "version": 3
   },
   "file_extension": ".py",
   "mimetype": "text/x-python",
   "name": "python",
   "nbconvert_exporter": "python",
   "pygments_lexer": "ipython3",
   "version": "3.12.7"
  }
 },
 "nbformat": 4,
 "nbformat_minor": 5
}
