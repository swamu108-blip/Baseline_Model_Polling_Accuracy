





# Import libraries
import pandas as pd
import matplotlib.pyplot as plt

# Read in your dataset
df = pd.read_csv('Historic_Baseline_Model_Poll_vs_Actual_Combined.csv')

# Quick check of the first few rows
#df.head(60)


# Groups by year and calculates the average of all column per year
df = df.groupby('year').mean(numeric_only=True).reset_index().round(2)

# Sets Poll Leader Column to show 0 if Dem won that year, 1 if Rep won that year 
# Based of the Demoratic and Republican Columns 
df['Poll_Leader'] = (df['Republican'] > df['Democratic']).astype(int)

# Sets election_winner to show 0 if dem won that year, 1 if Rep won that year
# Based of the Republican_Electoral and Democrat_Electoral Columns 
# (Indicative of Electoral College Win which is how canidates win the US Presidency)
df['election_winner'] = (df['Republican_Electoral'] > df['Democrat_Electoral']).astype(int)

# Renames election_winner to EC_election_winner
df = df.rename(columns={'election_winner': 'EC_election_winner'})

# Creates a new column PC_election_winner
# Sets PC_electioin_winner to show 0 if dem won that year, 1 if rep won that year
# Based on Republican_Popular and Democrat_Popular Columns
# (Indicative of Polular Vote win which would be interesting to dive into in later iterations of this project)
df['PC_election_winner'] = (df['Republican_Popular'] > df['Democrat_Popular']).astype(int)

# Drop Duplicates
df = df.loc[:,~df.columns.duplicated()]

df.columns


df





# Creates EC_Poll_Accurate column which states if Poll_Leader matched EC_election_winner
df['EC_Poll_Accurate'] = (df['Poll_Leader'] == df['EC_election_winner']).astype(int)

# Creates PC_Poll_Accurate column which states if Poll_Leader matched PC_election_winner
df['PC_Poll_Accurate'] = (df['Poll_Leader'] == df['PC_election_winner']).astype(int)

df


df.columns


# Re Order Data Frame for clarity

Order = [
    'year', 'Poll_Leading_Margin', 'Poll_Leader', 'EC_election_winner',
    'PC_election_winner', 'EC_Poll_Accurate', 'PC_Poll_Accurate', 'Democratic', 'Republican',
    'Republican_Electoral',
    'Democrat_Electoral', 'Republican_Popular', 'Democrat_Popular',
    'Total_Popular_Vote (Total votes cast in Presidential Election)',
    'Republican_Electoral_pct (out of 270)',
    'Democrat_Electoral_pct (out of 270)',
    'Republican_Popular_pct (Out of total votes cast in Presidential Election)',
    'Democrat_Popular_pct (Out of total votes cast in Presidential Election)',
    'Electoral_Leading_Margin (difference between dem and rep electorial pct)',
    'Popular_Leading_Margin (difference between dem and rep popular vote pct)',
    'Poll_vs_Electoral_Margin_Diff', 'Poll_vs_Popular_Margin_Diff'
]

df = df[Order]


df


df.to_csv('Baseline_Model_Data.csv', index=False)


# Main columns needed are year	
#Poll_Leading_Margin	
#Poll_Leader	
#EC_election_winner	
#PC_election_winner	
#EC_Poll_Accurate	
#PC_Poll_Accurate

#Read File back in:
df_baseline = pd.read_csv('Baseline_Model_Data.csv')

# Kept the others for future iterations of the project

# Copy to keep only the main columns
df_baseline = df[['year', 'Poll_Leading_Margin', 'Poll_Leader', 'EC_election_winner', 'PC_election_winner', 'EC_Poll_Accurate', 'PC_Poll_Accurate']].copy()


df_baseline


df_baseline.to_csv('Baseline_Model_Data1.csv', index=False)








# Created a copy of the data frame to show:
# Year, Poll Leader, and EC Election Winner 
# The both columns 0s and 1s were relabeled with Democrat and Republican

df_visualize = df[['year', 'Poll_Leader', 'EC_election_winner']].copy()

df_visualize['Poll_Leader'] = df_visualize['Poll_Leader'].map({0: 'Democrat', 1: 'Republican'})
df_visualize['EC_election_winner'] = df_visualize['EC_election_winner'].map({0: 'Democrat', 1: 'Republican'})


df_visualize





# Calculate overall accuracy as a percentage
overall_accuracy = df['EC_Poll_Accurate'].mean() * 100

# Plot a single bar for average accuracy
plt.figure(figsize=(4, 5))
plt.bar(['Polling Accuracy'], [overall_accuracy], color='green')
plt.ylim(0, 100)
plt.ylabel('Percent of Elections Predicted Correctly')
plt.title('Average Polling Accuracy (1936–2024)')

# Annotate bar with value
plt.text(0, overall_accuracy + 2, f"{overall_accuracy:.1f}%", 
         ha='center', va='bottom', fontsize=14, color='black', fontweight='bold')

plt.tight_layout()
plt.savefig('overall_accuracy.png', dpi=300, transparent=True)
plt.show()





plt.figure(figsize=(16, 4))

# Mask for correct predictions
accurate_years = df['Poll_Leader'] == df['EC_election_winner']
correct = df[accurate_years]

# Map winner to color where its blue for Dem and red for Rep
colors = correct['EC_election_winner'].map({0: 'blue', 1: 'red'}).tolist()

# Plot all bars at once, each with its assigned color
plt.bar(correct['year'], [1]*len(correct), color=colors)

plt.xticks(df['year'], rotation=90)
plt.yticks([])  # Hide y axis
plt.xlabel('Year')
plt.title('Years Polls Accurately Predicted Election Winner (Blue = Dem, Red = Rep)')
plt.tight_layout()
plt.savefig('correct', dpi=300, transparent=True)
plt.show()


# Bar chart to see what the upset years predicted versus who won 

import numpy as np

upset_years = [1948, 1980, 1988, 2016]

upsets = df_visualize[df_visualize['year'].isin(upset_years)].copy()

x = np.arange(len(upsets))
width = 0.35

# Color mapping
poll_colors = upsets['Poll_Leader'].map({'Democrat': 'blue', 'Republican': 'red'})
winner_colors = upsets['EC_election_winner'].map({'Democrat': 'blue', 'Republican': 'red'})

plt.figure(figsize=(12, 6))

# Poll Leader bar (left)
plt.bar(x - width/2, [1]*len(x), width=width, color=poll_colors, label='Poll Leader (blue=Dem, red=Rep)')

# Actual Winner bar (right)
plt.bar(x + width/2, [1]*len(x), width=width, color=winner_colors, label='Actual Winner (blue=Dem, red=Rep)', alpha=0.7, edgecolor='black')

plt.xticks(x, upsets['year'], rotation=45, ha='right')
plt.yticks([])  
plt.xlabel('Upset Year')
plt.title('Upset Years: Poll Prediction vs. Actual Winner')
plt.legend()
plt.tight_layout()
plt.savefig('upsets', dpi=300, transparent=True)
plt.show()














from sklearn.linear_model import LogisticRegression
from sklearn.model_selection import train_test_split
from sklearn.metrics import accuracy_score, confusion_matrix, classification_report

# Reading in Data
df = pd.read_csv('Baseline_Model_Data.csv')

# Features and Target Defined
X = df[['Poll_Leader', 'Poll_Leading_Margin']]
y = df['EC_election_winner']


# Spliting into train and test sets
X_train, X_test, y_train, y_test = train_test_split(X, y, test_size=0.25, random_state=42, stratify=y)





# Initializing and training the logistic regression model
# Teaching the model to recognize patterns in the features linked a Dem or Rep win

logreg = LogisticRegression()
logreg.fit(X_train, y_train)


# Use test set for prediction
y_pred = logreg.predict(X_test)

# Calculating accuracy
acc_logreg = accuracy_score(y_test, y_pred)
print(f"Logistic Regression Accuracy: {acc_logreg:.2%}")


# Confusion matrix
confusion_matrix(y_test, y_pred)


#classification report
classification_report(y_test, y_pred)





from sklearn.model_selection import LeaveOneOut, cross_val_score

X = df[['Poll_Leader', 'Poll_Leading_Margin']]
y = df['EC_election_winner']

# Use liblinear solver for small datasets
logreg = LogisticRegression(solver='liblinear')

loo = LeaveOneOut()
scores = cross_val_score(logreg, X, y, cv=loo)

print(f"LOOCV Mean Accuracy: {scores.mean():.2%}")


import matplotlib.pyplot as plt

# Example data
labels = ['Train/Test Split', 'LOOCV']
values = [83.33, 78.26]
colors = ['royalblue', 'seagreen']

plt.figure(figsize=(7,6))
bars = plt.bar(labels, values, color=colors)
plt.ylim(0, 100)
plt.ylabel('Accuracy (%)')
plt.title('Logistic Regression Accuracy: Split vs. LOOCV')

for i, val in enumerate(values):
    plt.text(i, val + 2, f"{val:.2f}%", ha='center', fontsize=16, fontweight='bold')

plt.tight_layout()
plt.savefig('accuracy_comparison.png', dpi=300, transparent=True)
plt.show()








from sklearn.ensemble import RandomForestClassifier
from sklearn.model_selection import train_test_split
from sklearn.metrics import accuracy_score, confusion_matrix, classification_report

# Put all in one cell because I can do that confidently now

# Split the data
X_train, X_test, y_train, y_test = train_test_split(X, y, test_size=0.25, random_state=42, stratify=y)

# Build and fit the model
rf = RandomForestClassifier(random_state=42)
rf.fit(X_train, y_train)

# Predict and evaluate
y_pred_rf = rf.predict(X_test)

rf_acc = accuracy_score(y_test, y_pred_rf)
print(f"Random Forest Accuracy: {rf_acc:.2%}")
print("Confusion Matrix:\n", confusion_matrix(y_test, y_pred_rf))
print("Classification Report:\n", classification_report(y_test, y_pred_rf))















